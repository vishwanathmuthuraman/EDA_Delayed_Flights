{
 "cells": [
  {
   "cell_type": "code",
   "execution_count": 127,
   "metadata": {},
   "outputs": [],
   "source": [
    "# Import all required libraries\n",
    "\n",
    "import pandas as pd\n",
    "import numpy as np\n",
    "import matplotlib.pyplot as plt\n",
    "import seaborn as sns\n",
    "import math\n",
    "import plotly.express as px\n",
    "from scipy.stats import norm\n"
   ]
  },
  {
   "cell_type": "code",
   "execution_count": 128,
   "metadata": {},
   "outputs": [
    {
     "data": {
      "text/html": [
       "<div>\n",
       "<style scoped>\n",
       "    .dataframe tbody tr th:only-of-type {\n",
       "        vertical-align: middle;\n",
       "    }\n",
       "\n",
       "    .dataframe tbody tr th {\n",
       "        vertical-align: top;\n",
       "    }\n",
       "\n",
       "    .dataframe thead th {\n",
       "        text-align: right;\n",
       "    }\n",
       "</style>\n",
       "<table border=\"1\" class=\"dataframe\">\n",
       "  <thead>\n",
       "    <tr style=\"text-align: right;\">\n",
       "      <th></th>\n",
       "      <th>Unnamed: 0</th>\n",
       "      <th>flight_date</th>\n",
       "      <th>unique_carrier</th>\n",
       "      <th>flight_num</th>\n",
       "      <th>origin</th>\n",
       "      <th>dest</th>\n",
       "      <th>arr_delay</th>\n",
       "      <th>cancelled</th>\n",
       "      <th>distance</th>\n",
       "      <th>carrier_delay</th>\n",
       "      <th>weather_delay</th>\n",
       "      <th>late_aircraft_delay</th>\n",
       "      <th>nas_delay</th>\n",
       "      <th>security_delay</th>\n",
       "      <th>actual_elapsed_time</th>\n",
       "    </tr>\n",
       "  </thead>\n",
       "  <tbody>\n",
       "    <tr>\n",
       "      <th>0</th>\n",
       "      <td>0</td>\n",
       "      <td>2015-01-02 00:00:00</td>\n",
       "      <td>AA</td>\n",
       "      <td>1.0</td>\n",
       "      <td>JFK</td>\n",
       "      <td>LAX</td>\n",
       "      <td>-19.0</td>\n",
       "      <td>0.0</td>\n",
       "      <td>2475.0</td>\n",
       "      <td>NaN</td>\n",
       "      <td>NaN</td>\n",
       "      <td>NaN</td>\n",
       "      <td>NaN</td>\n",
       "      <td>NaN</td>\n",
       "      <td>381.0</td>\n",
       "    </tr>\n",
       "    <tr>\n",
       "      <th>1</th>\n",
       "      <td>1</td>\n",
       "      <td>2015-01-03 00:00:00</td>\n",
       "      <td>AA</td>\n",
       "      <td>1.0</td>\n",
       "      <td>JFK</td>\n",
       "      <td>LAX</td>\n",
       "      <td>-39.0</td>\n",
       "      <td>0.0</td>\n",
       "      <td>2475.0</td>\n",
       "      <td>NaN</td>\n",
       "      <td>NaN</td>\n",
       "      <td>NaN</td>\n",
       "      <td>NaN</td>\n",
       "      <td>NaN</td>\n",
       "      <td>358.0</td>\n",
       "    </tr>\n",
       "  </tbody>\n",
       "</table>\n",
       "</div>"
      ],
      "text/plain": [
       "   Unnamed: 0          flight_date unique_carrier  flight_num origin dest  \\\n",
       "0           0  2015-01-02 00:00:00             AA         1.0    JFK  LAX   \n",
       "1           1  2015-01-03 00:00:00             AA         1.0    JFK  LAX   \n",
       "\n",
       "   arr_delay  cancelled  distance  carrier_delay  weather_delay  \\\n",
       "0      -19.0        0.0    2475.0            NaN            NaN   \n",
       "1      -39.0        0.0    2475.0            NaN            NaN   \n",
       "\n",
       "   late_aircraft_delay  nas_delay  security_delay  actual_elapsed_time  \n",
       "0                  NaN        NaN             NaN                381.0  \n",
       "1                  NaN        NaN             NaN                358.0  "
      ]
     },
     "execution_count": 128,
     "metadata": {},
     "output_type": "execute_result"
    }
   ],
   "source": [
    "df = pd.read_csv('transport_data_2015_january.csv')\n",
    "df.head(2)"
   ]
  },
  {
   "cell_type": "markdown",
   "metadata": {},
   "source": [
    "## Distributions"
   ]
  },
  {
   "cell_type": "code",
   "execution_count": 129,
   "metadata": {},
   "outputs": [
    {
     "data": {
      "text/html": [
       "<div>\n",
       "<style scoped>\n",
       "    .dataframe tbody tr th:only-of-type {\n",
       "        vertical-align: middle;\n",
       "    }\n",
       "\n",
       "    .dataframe tbody tr th {\n",
       "        vertical-align: top;\n",
       "    }\n",
       "\n",
       "    .dataframe thead th {\n",
       "        text-align: right;\n",
       "    }\n",
       "</style>\n",
       "<table border=\"1\" class=\"dataframe\">\n",
       "  <thead>\n",
       "    <tr style=\"text-align: right;\">\n",
       "      <th></th>\n",
       "      <th>unique_carrier</th>\n",
       "    </tr>\n",
       "  </thead>\n",
       "  <tbody>\n",
       "    <tr>\n",
       "      <th>WN</th>\n",
       "      <td>21150</td>\n",
       "    </tr>\n",
       "    <tr>\n",
       "      <th>EV</th>\n",
       "      <td>11371</td>\n",
       "    </tr>\n",
       "    <tr>\n",
       "      <th>OO</th>\n",
       "      <td>10804</td>\n",
       "    </tr>\n",
       "    <tr>\n",
       "      <th>AA</th>\n",
       "      <td>9841</td>\n",
       "    </tr>\n",
       "    <tr>\n",
       "      <th>DL</th>\n",
       "      <td>9803</td>\n",
       "    </tr>\n",
       "    <tr>\n",
       "      <th>UA</th>\n",
       "      <td>8624</td>\n",
       "    </tr>\n",
       "    <tr>\n",
       "      <th>MQ</th>\n",
       "      <td>8060</td>\n",
       "    </tr>\n",
       "    <tr>\n",
       "      <th>US</th>\n",
       "      <td>6353</td>\n",
       "    </tr>\n",
       "    <tr>\n",
       "      <th>B6</th>\n",
       "      <td>4401</td>\n",
       "    </tr>\n",
       "    <tr>\n",
       "      <th>NK</th>\n",
       "      <td>2133</td>\n",
       "    </tr>\n",
       "    <tr>\n",
       "      <th>AS</th>\n",
       "      <td>2104</td>\n",
       "    </tr>\n",
       "    <tr>\n",
       "      <th>F9</th>\n",
       "      <td>1848</td>\n",
       "    </tr>\n",
       "    <tr>\n",
       "      <th>HA</th>\n",
       "      <td>1354</td>\n",
       "    </tr>\n",
       "    <tr>\n",
       "      <th>VX</th>\n",
       "      <td>781</td>\n",
       "    </tr>\n",
       "  </tbody>\n",
       "</table>\n",
       "</div>"
      ],
      "text/plain": [
       "    unique_carrier\n",
       "WN           21150\n",
       "EV           11371\n",
       "OO           10804\n",
       "AA            9841\n",
       "DL            9803\n",
       "UA            8624\n",
       "MQ            8060\n",
       "US            6353\n",
       "B6            4401\n",
       "NK            2133\n",
       "AS            2104\n",
       "F9            1848\n",
       "HA            1354\n",
       "VX             781"
      ]
     },
     "execution_count": 129,
     "metadata": {},
     "output_type": "execute_result"
    }
   ],
   "source": [
    "# first we will be looking a distributions of airlines that are late \n",
    "# Before that lets create a column to find the flights that are late and not early as the arrival column has both values as of this moment.\n",
    "\n",
    "df['delayed'] = df['arr_delay'].apply(lambda x:x>0)\n",
    "\n",
    "# Now that we have a series of True or False values against delayed flights. we can use them to count the number of delayed flights by airlines.\n",
    "delayed_flights = df[df['delayed']==True]\n",
    "\n",
    "dis_1 = delayed_flights['unique_carrier'].value_counts()\n",
    "pd.DataFrame(dis_1)\n"
   ]
  },
  {
   "cell_type": "markdown",
   "metadata": {},
   "source": [
    "#### Distribution of unique carriers that are delayed"
   ]
  },
  {
   "cell_type": "code",
   "execution_count": 130,
   "metadata": {},
   "outputs": [
    {
     "name": "stderr",
     "output_type": "stream",
     "text": [
      "C:\\Users\\Kumarappan M\\AppData\\Roaming\\Python\\Python39\\site-packages\\seaborn\\_decorators.py:36: FutureWarning:\n",
      "\n",
      "Pass the following variable as a keyword arg: x. From version 0.12, the only valid positional argument will be `data`, and passing other arguments without an explicit keyword will result in an error or misinterpretation.\n",
      "\n"
     ]
    },
    {
     "data": {
      "text/plain": [
       "<AxesSubplot:xlabel='unique_carrier', ylabel='Density'>"
      ]
     },
     "execution_count": 130,
     "metadata": {},
     "output_type": "execute_result"
    },
    {
     "data": {
      "image/png": "[encoded data removed]",
      "text/plain": [
       "<Figure size 648x360 with 2 Axes>"
      ]
     },
     "metadata": {
      "needs_background": "light"
     },
     "output_type": "display_data"
    }
   ],
   "source": [
    "# density plot showign distribution of delayed carriers \n",
    "plt.figure(figsize = (9, 5))\n",
    "\n",
    "plt.subplot(211)\n",
    "sns.boxplot(dis_1)\n",
    "\n",
    "plt.subplot(212)\n",
    "sns.kdeplot(dis_1)"
   ]
  },
  {
   "cell_type": "code",
   "execution_count": 155,
   "metadata": {},
   "outputs": [
    {
     "data": {
      "text/html": [
       "<div>\n",
       "<style scoped>\n",
       "    .dataframe tbody tr th:only-of-type {\n",
       "        vertical-align: middle;\n",
       "    }\n",
       "\n",
       "    .dataframe tbody tr th {\n",
       "        vertical-align: top;\n",
       "    }\n",
       "\n",
       "    .dataframe thead th {\n",
       "        text-align: right;\n",
       "    }\n",
       "</style>\n",
       "<table border=\"1\" class=\"dataframe\">\n",
       "  <thead>\n",
       "    <tr style=\"text-align: right;\">\n",
       "      <th>delayed</th>\n",
       "      <th>False</th>\n",
       "      <th>True</th>\n",
       "      <th>total_flights</th>\n",
       "      <th>percent_delayed</th>\n",
       "      <th>proportion_d</th>\n",
       "    </tr>\n",
       "    <tr>\n",
       "      <th>unique_carrier</th>\n",
       "      <th></th>\n",
       "      <th></th>\n",
       "      <th></th>\n",
       "      <th></th>\n",
       "      <th></th>\n",
       "    </tr>\n",
       "  </thead>\n",
       "  <tbody>\n",
       "    <tr>\n",
       "      <th>MQ</th>\n",
       "      <td>4692</td>\n",
       "      <td>8060</td>\n",
       "      <td>12752</td>\n",
       "      <td>63.205772</td>\n",
       "      <td>0.632058</td>\n",
       "    </tr>\n",
       "    <tr>\n",
       "      <th>F9</th>\n",
       "      <td>1103</td>\n",
       "      <td>1848</td>\n",
       "      <td>2951</td>\n",
       "      <td>62.622840</td>\n",
       "      <td>0.626228</td>\n",
       "    </tr>\n",
       "    <tr>\n",
       "      <th>NK</th>\n",
       "      <td>1550</td>\n",
       "      <td>2133</td>\n",
       "      <td>3683</td>\n",
       "      <td>57.914743</td>\n",
       "      <td>0.579147</td>\n",
       "    </tr>\n",
       "    <tr>\n",
       "      <th>AA</th>\n",
       "      <td>8912</td>\n",
       "      <td>9841</td>\n",
       "      <td>18753</td>\n",
       "      <td>52.476937</td>\n",
       "      <td>0.524769</td>\n",
       "    </tr>\n",
       "    <tr>\n",
       "      <th>UA</th>\n",
       "      <td>7885</td>\n",
       "      <td>8624</td>\n",
       "      <td>16509</td>\n",
       "      <td>52.238173</td>\n",
       "      <td>0.522382</td>\n",
       "    </tr>\n",
       "    <tr>\n",
       "      <th>OO</th>\n",
       "      <td>9977</td>\n",
       "      <td>10804</td>\n",
       "      <td>20781</td>\n",
       "      <td>51.989798</td>\n",
       "      <td>0.519898</td>\n",
       "    </tr>\n",
       "    <tr>\n",
       "      <th>EV</th>\n",
       "      <td>10596</td>\n",
       "      <td>11371</td>\n",
       "      <td>21967</td>\n",
       "      <td>51.764010</td>\n",
       "      <td>0.517640</td>\n",
       "    </tr>\n",
       "    <tr>\n",
       "      <th>HA</th>\n",
       "      <td>1351</td>\n",
       "      <td>1354</td>\n",
       "      <td>2705</td>\n",
       "      <td>50.055453</td>\n",
       "      <td>0.500555</td>\n",
       "    </tr>\n",
       "    <tr>\n",
       "      <th>WN</th>\n",
       "      <td>21789</td>\n",
       "      <td>21150</td>\n",
       "      <td>42939</td>\n",
       "      <td>49.255921</td>\n",
       "      <td>0.492559</td>\n",
       "    </tr>\n",
       "    <tr>\n",
       "      <th>B6</th>\n",
       "      <td>4832</td>\n",
       "      <td>4401</td>\n",
       "      <td>9233</td>\n",
       "      <td>47.665981</td>\n",
       "      <td>0.476660</td>\n",
       "    </tr>\n",
       "    <tr>\n",
       "      <th>US</th>\n",
       "      <td>7850</td>\n",
       "      <td>6353</td>\n",
       "      <td>14203</td>\n",
       "      <td>44.729987</td>\n",
       "      <td>0.447300</td>\n",
       "    </tr>\n",
       "    <tr>\n",
       "      <th>VX</th>\n",
       "      <td>1254</td>\n",
       "      <td>781</td>\n",
       "      <td>2035</td>\n",
       "      <td>38.378378</td>\n",
       "      <td>0.383784</td>\n",
       "    </tr>\n",
       "    <tr>\n",
       "      <th>AS</th>\n",
       "      <td>3527</td>\n",
       "      <td>2104</td>\n",
       "      <td>5631</td>\n",
       "      <td>37.364589</td>\n",
       "      <td>0.373646</td>\n",
       "    </tr>\n",
       "    <tr>\n",
       "      <th>DL</th>\n",
       "      <td>17719</td>\n",
       "      <td>9803</td>\n",
       "      <td>27522</td>\n",
       "      <td>35.618778</td>\n",
       "      <td>0.356188</td>\n",
       "    </tr>\n",
       "  </tbody>\n",
       "</table>\n",
       "</div>"
      ],
      "text/plain": [
       "delayed         False   True  total_flights  percent_delayed  proportion_d\n",
       "unique_carrier                                                            \n",
       "MQ               4692   8060          12752        63.205772      0.632058\n",
       "F9               1103   1848           2951        62.622840      0.626228\n",
       "NK               1550   2133           3683        57.914743      0.579147\n",
       "AA               8912   9841          18753        52.476937      0.524769\n",
       "UA               7885   8624          16509        52.238173      0.522382\n",
       "OO               9977  10804          20781        51.989798      0.519898\n",
       "EV              10596  11371          21967        51.764010      0.517640\n",
       "HA               1351   1354           2705        50.055453      0.500555\n",
       "WN              21789  21150          42939        49.255921      0.492559\n",
       "B6               4832   4401           9233        47.665981      0.476660\n",
       "US               7850   6353          14203        44.729987      0.447300\n",
       "VX               1254    781           2035        38.378378      0.383784\n",
       "AS               3527   2104           5631        37.364589      0.373646\n",
       "DL              17719   9803          27522        35.618778      0.356188"
      ]
     },
     "execution_count": 155,
     "metadata": {},
     "output_type": "execute_result"
    }
   ],
   "source": [
    "# lets visualize their proportions next \n",
    "# size() counts along a axis and the unstack() pivots the inner most levels\n",
    "\n",
    "proportion = df.groupby(['unique_carrier','delayed']).size().unstack()\n",
    "proportion.reset_index()\n",
    "\n",
    "# Now lets add a column for total and percentage of delayed flights \n",
    "\n",
    "proportion['total_flights'] = proportion[True]+proportion[False]\n",
    "\n",
    "proportion['percent_delayed'] = proportion[True]/proportion['total_flights']*100\n",
    "\n",
    "\n",
    "# Now lets find the proportion of these flights \n",
    "\n",
    "proportion['proportion_d'] = proportion[True]/proportion['total_flights']\n",
    "proportion.sort_values('proportion_d',ascending=False)\n",
    "\n",
    "\t"
   ]
  },
  {
   "cell_type": "markdown",
   "metadata": {},
   "source": [
    "##### The above table shows a different perspective compared to the first table. In the first table WN ( south west airlines) had the most number of delayed flighs but here it barely crosses the middle of the pack with respect to percent of delayed flights in their respective airlines."
   ]
  },
  {
   "cell_type": "code",
   "execution_count": 171,
   "metadata": {},
   "outputs": [
    {
     "data": {
      "text/plain": [
       "<matplotlib.lines.Line2D at 0x2858009dfd0>"
      ]
     },
     "execution_count": 171,
     "metadata": {},
     "output_type": "execute_result"
    },
    {
     "data": {
      "image/png": "[encoded data removed]",
      "text/plain": [
       "<Figure size 720x720 with 1 Axes>"
      ]
     },
     "metadata": {
      "needs_background": "light"
     },
     "output_type": "display_data"
    },
    {
     "data": {
      "image/png": "[encoded data removed]",
      "text/plain": [
       "<Figure size 720x720 with 1 Axes>"
      ]
     },
     "metadata": {
      "needs_background": "light"
     },
     "output_type": "display_data"
    }
   ],
   "source": [
    "sns.displot(df,\n",
    "            x = 'arr_delay',\n",
    "            bins=50,\n",
    "           height=10)\n",
    "plt.title('Mean',size=20)\n",
    "plt.xlabel(\"Delayed Flights\", size=14)\n",
    "plt.ylabel(\"Count\", size=14)\n",
    "plt.axvline(x=df.arr_delay.mean(),\n",
    "            color='red')\n",
    "\n",
    "sns.displot(df,\n",
    "            x = \"arr_delay\",\n",
    "            bins=50,\n",
    "           height=10)\n",
    "plt.title('Median',size=20)\n",
    "plt.xlabel(\"Delayed Flights\", size=14)\n",
    "plt.ylabel(\"Count\", size=14)\n",
    "plt.axvline(x=df.arr_delay.median(),\n",
    "            color='blue',\n",
    "            ls='--', \n",
    "            lw=2.5)"
   ]
  },
  {
   "cell_type": "markdown",
   "metadata": {},
   "source": [
    "## Location\n",
    "\n",
    "* Mean\n",
    "* Median\n",
    "* Mode\n",
    "* Percentiles"
   ]
  },
  {
   "cell_type": "code",
   "execution_count": 132,
   "metadata": {},
   "outputs": [
    {
     "data": {
      "text/html": [
       "<div>\n",
       "<style scoped>\n",
       "    .dataframe tbody tr th:only-of-type {\n",
       "        vertical-align: middle;\n",
       "    }\n",
       "\n",
       "    .dataframe tbody tr th {\n",
       "        vertical-align: top;\n",
       "    }\n",
       "\n",
       "    .dataframe thead th {\n",
       "        text-align: right;\n",
       "    }\n",
       "</style>\n",
       "<table border=\"1\" class=\"dataframe\">\n",
       "  <thead>\n",
       "    <tr style=\"text-align: right;\">\n",
       "      <th></th>\n",
       "      <th></th>\n",
       "      <th></th>\n",
       "      <th></th>\n",
       "      <th></th>\n",
       "      <th></th>\n",
       "      <th></th>\n",
       "      <th></th>\n",
       "      <th></th>\n",
       "      <th></th>\n",
       "      <th></th>\n",
       "      <th></th>\n",
       "      <th></th>\n",
       "      <th></th>\n",
       "      <th>0</th>\n",
       "    </tr>\n",
       "    <tr>\n",
       "      <th>AA</th>\n",
       "      <th>AS</th>\n",
       "      <th>B6</th>\n",
       "      <th>DL</th>\n",
       "      <th>EV</th>\n",
       "      <th>F9</th>\n",
       "      <th>HA</th>\n",
       "      <th>MQ</th>\n",
       "      <th>NK</th>\n",
       "      <th>OO</th>\n",
       "      <th>UA</th>\n",
       "      <th>US</th>\n",
       "      <th>VX</th>\n",
       "      <th>WN</th>\n",
       "      <th></th>\n",
       "    </tr>\n",
       "  </thead>\n",
       "  <tbody>\n",
       "    <tr>\n",
       "      <th>15.616299</th>\n",
       "      <th>1.731951</th>\n",
       "      <th>13.576129</th>\n",
       "      <th>4.118949</th>\n",
       "      <th>18.35852</th>\n",
       "      <th>28.836953</th>\n",
       "      <th>6.458937</th>\n",
       "      <th>35.627406</th>\n",
       "      <th>22.77967</th>\n",
       "      <th>19.031663</th>\n",
       "      <th>16.094772</th>\n",
       "      <th>7.671557</th>\n",
       "      <th>3.833908</th>\n",
       "      <th>11.273536</th>\n",
       "      <td>1</td>\n",
       "    </tr>\n",
       "  </tbody>\n",
       "</table>\n",
       "</div>"
      ],
      "text/plain": [
       "                                                                                                                                      0\n",
       "AA        AS       B6        DL       EV       F9        HA       MQ        NK       OO        UA        US       VX       WN          \n",
       "15.616299 1.731951 13.576129 4.118949 18.35852 28.836953 6.458937 35.627406 22.77967 19.031663 16.094772 7.671557 3.833908 11.273536  1"
      ]
     },
     "execution_count": 132,
     "metadata": {},
     "output_type": "execute_result"
    }
   ],
   "source": [
    "# Mean  gives you an average of how long each flight was delayed for\n",
    "\n",
    "mean_delay = df.pivot_table(columns='unique_carrier' , values='arr_delay', aggfunc=np.mean).value_counts(ascending=False)\n",
    "pd.DataFrame(mean_delay)\n"
   ]
  },
  {
   "cell_type": "code",
   "execution_count": 133,
   "metadata": {},
   "outputs": [
    {
     "data": {
      "text/plain": [
       "<seaborn.axisgrid.FacetGrid at 0x285ea01e970>"
      ]
     },
     "execution_count": 133,
     "metadata": {},
     "output_type": "execute_result"
    },
    {
     "data": {
      "image/png": "[encoded data removed]",
      "text/plain": [
       "<Figure size 408.75x360 with 1 Axes>"
      ]
     },
     "metadata": {
      "needs_background": "light"
     },
     "output_type": "display_data"
    }
   ],
   "source": [
    "mean_1 = df.groupby('unique_carrier')['arr_delay'].mean().reset_index(name='mean') \n",
    "harker = sns.relplot(x=\"unique_carrier\", y=\"mean\", hue= 'mean',palette=\"ch:r=-.5,l=.75\",data=mean_1)\n",
    "harker.set_titles(\"Distribution Scatter Plot of Mean \")\n",
    "harker.set_ylabels(\"Mean\", clear_inner=False)\n",
    "harker.set_ylabels(\"Airlines\", clear_inner=False)\n"
   ]
  },
  {
   "cell_type": "code",
   "execution_count": 134,
   "metadata": {},
   "outputs": [
    {
     "data": {
      "text/plain": [
       "count    42020.000000\n",
       "mean        11.273536\n",
       "std         36.438970\n",
       "min        -55.000000\n",
       "25%         -9.000000\n",
       "50%          1.000000\n",
       "75%         19.000000\n",
       "max        535.000000\n",
       "Name: arr_delay, dtype: float64"
      ]
     },
     "execution_count": 134,
     "metadata": {},
     "output_type": "execute_result"
    }
   ],
   "source": [
    "south_west = df[df['unique_carrier'] == 'WN']['arr_delay']\n",
    "south_west.describe()"
   ]
  },
  {
   "cell_type": "markdown",
   "metadata": {},
   "source": [
    "### Inference\n",
    "\n",
    "* count: there are 42,020 rows in the dataset, which is filtered to only show Southwest (WN).\n",
    "* mean: the average time a flight is delayed in this particular airline.\n",
    "* std: the standard deviation.\n",
    "* min: the shortest delay in the dataset. \n",
    "* 25%: the 25th percentile. 25% of delays were lower than -9.00. ( - meaning it was early )\n",
    "* 50%: the 50th percentile, or the median. 50% of delays were lower than 1.00.\n",
    "* 75%: the 75th percentile. 75% of delays were lower than 19.00.\n",
    "* max: the longest delay in the dataset: 535.00."
   ]
  },
  {
   "cell_type": "markdown",
   "metadata": {},
   "source": [
    "## Histogram"
   ]
  },
  {
   "cell_type": "markdown",
   "metadata": {},
   "source": [
    "#### South west airlines delay histogram"
   ]
  },
  {
   "cell_type": "code",
   "execution_count": 135,
   "metadata": {},
   "outputs": [
    {
     "data": {
      "text/plain": [
       "<AxesSubplot:>"
      ]
     },
     "execution_count": 135,
     "metadata": {},
     "output_type": "execute_result"
    },
    {
     "data": {
      "image/png": "[encoded data removed]",
      "text/plain": [
       "<Figure size 432x288 with 1 Axes>"
      ]
     },
     "metadata": {
      "needs_background": "light"
     },
     "output_type": "display_data"
    }
   ],
   "source": [
    "# setting up the bins parameter\n",
    "bin_values = np.arange(start=-50, stop=200, step=10)\n",
    "\n",
    "# histogram to display flight delays every 10 mins\n",
    "\n",
    "south_west_hist = df[df.unique_carrier=='WN']\n",
    "south_west_hist.arr_delay.hist(bins=bin_values)"
   ]
  },
  {
   "cell_type": "markdown",
   "metadata": {},
   "source": [
    "#### South west airlines Vs US airlines Vs Envoy airlines delay histogram"
   ]
  },
  {
   "cell_type": "code",
   "execution_count": 136,
   "metadata": {},
   "outputs": [
    {
     "data": {
      "text/plain": [
       "unique_carrier\n",
       "MQ    AxesSubplot(0.125,0.125;0.775x0.755)\n",
       "US    AxesSubplot(0.125,0.125;0.775x0.755)\n",
       "WN    AxesSubplot(0.125,0.125;0.775x0.755)\n",
       "Name: arr_delay, dtype: object"
      ]
     },
     "execution_count": 136,
     "metadata": {},
     "output_type": "execute_result"
    },
    {
     "data": {
      "image/png": "[encoded data removed]",
      "text/plain": [
       "<Figure size 936x504 with 1 Axes>"
      ]
     },
     "metadata": {
      "needs_background": "light"
     },
     "output_type": "display_data"
    }
   ],
   "source": [
    "# subsetting data frame for south west and US airlines and Envoy \n",
    "\n",
    "WN_US_airlines = df['unique_carrier'].isin(['WN','US','MQ'])\n",
    "WN_US_airlines_df = df[WN_US_airlines]\n",
    "\n",
    "# Create a stacked histogram with both US and WN airlines\n",
    "\n",
    "stacked_hist = WN_US_airlines_df.groupby('unique_carrier')['arr_delay']\n",
    "stacked_hist.plot(kind='hist',bins=bin_values,figsize=[13,7],alpha=0.4,legend=True)"
   ]
  },
  {
   "cell_type": "code",
   "execution_count": 137,
   "metadata": {},
   "outputs": [
    {
     "data": {
      "text/html": [
       "<div>\n",
       "<style scoped>\n",
       "    .dataframe tbody tr th:only-of-type {\n",
       "        vertical-align: middle;\n",
       "    }\n",
       "\n",
       "    .dataframe tbody tr th {\n",
       "        vertical-align: top;\n",
       "    }\n",
       "\n",
       "    .dataframe thead th {\n",
       "        text-align: right;\n",
       "    }\n",
       "</style>\n",
       "<table border=\"1\" class=\"dataframe\">\n",
       "  <thead>\n",
       "    <tr style=\"text-align: right;\">\n",
       "      <th></th>\n",
       "      <th>count</th>\n",
       "      <th>mean</th>\n",
       "      <th>std</th>\n",
       "      <th>min</th>\n",
       "      <th>25%</th>\n",
       "      <th>50%</th>\n",
       "      <th>75%</th>\n",
       "      <th>max</th>\n",
       "    </tr>\n",
       "    <tr>\n",
       "      <th>unique_carrier</th>\n",
       "      <th></th>\n",
       "      <th></th>\n",
       "      <th></th>\n",
       "      <th></th>\n",
       "      <th></th>\n",
       "      <th></th>\n",
       "      <th></th>\n",
       "      <th></th>\n",
       "    </tr>\n",
       "  </thead>\n",
       "  <tbody>\n",
       "    <tr>\n",
       "      <th>MQ</th>\n",
       "      <td>11275.0</td>\n",
       "      <td>35.627406</td>\n",
       "      <td>58.444090</td>\n",
       "      <td>-51.0</td>\n",
       "      <td>-2.0</td>\n",
       "      <td>17.0</td>\n",
       "      <td>53.0</td>\n",
       "      <td>788.0</td>\n",
       "    </tr>\n",
       "    <tr>\n",
       "      <th>US</th>\n",
       "      <td>13972.0</td>\n",
       "      <td>7.671557</td>\n",
       "      <td>34.672795</td>\n",
       "      <td>-59.0</td>\n",
       "      <td>-10.0</td>\n",
       "      <td>-1.0</td>\n",
       "      <td>13.0</td>\n",
       "      <td>621.0</td>\n",
       "    </tr>\n",
       "    <tr>\n",
       "      <th>WN</th>\n",
       "      <td>42020.0</td>\n",
       "      <td>11.273536</td>\n",
       "      <td>36.438970</td>\n",
       "      <td>-55.0</td>\n",
       "      <td>-9.0</td>\n",
       "      <td>1.0</td>\n",
       "      <td>19.0</td>\n",
       "      <td>535.0</td>\n",
       "    </tr>\n",
       "  </tbody>\n",
       "</table>\n",
       "</div>"
      ],
      "text/plain": [
       "                  count       mean        std   min   25%   50%   75%    max\n",
       "unique_carrier                                                              \n",
       "MQ              11275.0  35.627406  58.444090 -51.0  -2.0  17.0  53.0  788.0\n",
       "US              13972.0   7.671557  34.672795 -59.0 -10.0  -1.0  13.0  621.0\n",
       "WN              42020.0  11.273536  36.438970 -55.0  -9.0   1.0  19.0  535.0"
      ]
     },
     "execution_count": 137,
     "metadata": {},
     "output_type": "execute_result"
    }
   ],
   "source": [
    "des = stacked_hist.describe()\n",
    "des\n"
   ]
  },
  {
   "cell_type": "markdown",
   "metadata": {},
   "source": [
    "From the above table you can infere that the delays on Envoy airlines are more than the other two airlines meaning the values are spread out. We arrive at this conclusion by looking at the standard deviation , you clearly see the gap between Envoy and the other airlines."
   ]
  },
  {
   "cell_type": "markdown",
   "metadata": {},
   "source": [
    "## Variance"
   ]
  },
  {
   "cell_type": "markdown",
   "metadata": {},
   "source": [
    "#### Standard Deviation\n",
    "Simply put standard deviation is the square root of Variance , and in this case is shows how the flight delays are spread out."
   ]
  },
  {
   "cell_type": "code",
   "execution_count": 138,
   "metadata": {},
   "outputs": [
    {
     "name": "stdout",
     "output_type": "stream",
     "text": [
      "Envoy Air\n",
      "US Airways\n",
      "South West Airways\n"
     ]
    },
    {
     "data": {
      "text/plain": [
       "((None, 58.44409039663552, 'minutes from the mean', 35.62740576496674),\n",
       " (None, 34.67279466146994, 'minutes from the mean', 7.671557400515316),\n",
       " (None, 36.438969785966094, 'minutes from the mean', 11.273536411232746))"
      ]
     },
     "execution_count": 138,
     "metadata": {},
     "output_type": "execute_result"
    }
   ],
   "source": [
    "envoy_air = print ('Envoy Air'), des.loc['MQ']['std'], 'minutes from the mean', des.loc['MQ']['mean']\n",
    "US_air = print ('US Airways'), des.loc['US']['std'], 'minutes from the mean', des.loc['US']['mean']\n",
    "south_west_air = print ('South West Airways'), des.loc['WN']['std'], 'minutes from the mean', des.loc['WN']['mean']\n",
    "\n",
    "envoy_air,US_air,south_west_air\n",
    "\n"
   ]
  },
  {
   "cell_type": "markdown",
   "metadata": {},
   "source": [
    "* As you can see above Envoy airways has a 35.6 mean value and 58.4 deviation , meaning 68.2% of the flights at envoy airlines are between 23 (58.444 - 35.627) minutes early or 93 (58.444 + 35.627) minutes delay.\n",
    "\n",
    "* As you can see above US airways has a 7.6 mean value and 34.6 deviation , meaning 68.2% of the flights at US airlines are between 27 (34.6 - 7.6) minutes early or 42 (34.6 + 7.6) minutes delay.\n",
    "\n",
    "* As you can see above South west airways has a 11.2 mean value and 36.4 deviation , meaning 68.2% of the flights at South west airlines are between 25 (36.4 - 11.2) minutes early or 47 (36.4 + 11.2) minutes delay.\n",
    "\n",
    "* From the above information we can infer that US airlines has the lowest dispersion rate among all airlines compared."
   ]
  },
  {
   "cell_type": "markdown",
   "metadata": {},
   "source": [
    "## Box Plots"
   ]
  },
  {
   "cell_type": "markdown",
   "metadata": {},
   "source": [
    "#### Lets look at box plots of high volume airports"
   ]
  },
  {
   "cell_type": "code",
   "execution_count": 139,
   "metadata": {},
   "outputs": [
    {
     "data": {
      "text/html": [
       "<div>\n",
       "<style scoped>\n",
       "    .dataframe tbody tr th:only-of-type {\n",
       "        vertical-align: middle;\n",
       "    }\n",
       "\n",
       "    .dataframe tbody tr th {\n",
       "        vertical-align: top;\n",
       "    }\n",
       "\n",
       "    .dataframe thead th {\n",
       "        text-align: right;\n",
       "    }\n",
       "</style>\n",
       "<table border=\"1\" class=\"dataframe\">\n",
       "  <thead>\n",
       "    <tr style=\"text-align: right;\">\n",
       "      <th>origin</th>\n",
       "      <th>ATL</th>\n",
       "      <th>BOS</th>\n",
       "      <th>CLT</th>\n",
       "      <th>DEN</th>\n",
       "      <th>DFW</th>\n",
       "      <th>DTW</th>\n",
       "      <th>EWR</th>\n",
       "      <th>FLL</th>\n",
       "      <th>IAH</th>\n",
       "      <th>JFK</th>\n",
       "      <th>LAS</th>\n",
       "      <th>LAX</th>\n",
       "      <th>LGA</th>\n",
       "      <th>MCO</th>\n",
       "      <th>MSP</th>\n",
       "      <th>ORD</th>\n",
       "      <th>PHX</th>\n",
       "      <th>SEA</th>\n",
       "      <th>SFO</th>\n",
       "      <th>SLC</th>\n",
       "    </tr>\n",
       "  </thead>\n",
       "  <tbody>\n",
       "    <tr>\n",
       "      <th>count</th>\n",
       "      <td>13.000000</td>\n",
       "      <td>13.000000</td>\n",
       "      <td>13.000000</td>\n",
       "      <td>13.000000</td>\n",
       "      <td>13.000000</td>\n",
       "      <td>13.000000</td>\n",
       "      <td>13.000000</td>\n",
       "      <td>13.000000</td>\n",
       "      <td>13.000000</td>\n",
       "      <td>13.000000</td>\n",
       "      <td>13.000000</td>\n",
       "      <td>13.000000</td>\n",
       "      <td>13.000000</td>\n",
       "      <td>13.000000</td>\n",
       "      <td>13.000000</td>\n",
       "      <td>13.000000</td>\n",
       "      <td>13.000000</td>\n",
       "      <td>13.000000</td>\n",
       "      <td>13.000000</td>\n",
       "      <td>13.000000</td>\n",
       "    </tr>\n",
       "    <tr>\n",
       "      <th>mean</th>\n",
       "      <td>7.049522</td>\n",
       "      <td>11.609776</td>\n",
       "      <td>7.350537</td>\n",
       "      <td>22.283364</td>\n",
       "      <td>18.216483</td>\n",
       "      <td>16.044343</td>\n",
       "      <td>17.213870</td>\n",
       "      <td>6.938287</td>\n",
       "      <td>11.216083</td>\n",
       "      <td>14.613638</td>\n",
       "      <td>11.723369</td>\n",
       "      <td>11.302481</td>\n",
       "      <td>17.699715</td>\n",
       "      <td>11.925022</td>\n",
       "      <td>9.627240</td>\n",
       "      <td>39.274123</td>\n",
       "      <td>9.223535</td>\n",
       "      <td>6.526833</td>\n",
       "      <td>11.517644</td>\n",
       "      <td>5.083884</td>\n",
       "    </tr>\n",
       "    <tr>\n",
       "      <th>std</th>\n",
       "      <td>12.798122</td>\n",
       "      <td>15.004838</td>\n",
       "      <td>7.499172</td>\n",
       "      <td>16.171575</td>\n",
       "      <td>12.854437</td>\n",
       "      <td>15.286101</td>\n",
       "      <td>18.718574</td>\n",
       "      <td>10.452380</td>\n",
       "      <td>11.488504</td>\n",
       "      <td>22.619487</td>\n",
       "      <td>11.574100</td>\n",
       "      <td>10.193057</td>\n",
       "      <td>23.428830</td>\n",
       "      <td>12.647029</td>\n",
       "      <td>14.971524</td>\n",
       "      <td>28.195169</td>\n",
       "      <td>7.051518</td>\n",
       "      <td>4.795902</td>\n",
       "      <td>8.742399</td>\n",
       "      <td>5.910367</td>\n",
       "    </tr>\n",
       "    <tr>\n",
       "      <th>min</th>\n",
       "      <td>-5.473046</td>\n",
       "      <td>-9.384106</td>\n",
       "      <td>-1.681250</td>\n",
       "      <td>-0.638838</td>\n",
       "      <td>2.690160</td>\n",
       "      <td>-6.842809</td>\n",
       "      <td>-5.456446</td>\n",
       "      <td>-7.118721</td>\n",
       "      <td>-0.530120</td>\n",
       "      <td>-14.911877</td>\n",
       "      <td>-3.695418</td>\n",
       "      <td>-2.958559</td>\n",
       "      <td>-11.311475</td>\n",
       "      <td>-2.242991</td>\n",
       "      <td>-7.691030</td>\n",
       "      <td>2.735369</td>\n",
       "      <td>-1.161593</td>\n",
       "      <td>-2.761506</td>\n",
       "      <td>0.621622</td>\n",
       "      <td>-5.717949</td>\n",
       "    </tr>\n",
       "    <tr>\n",
       "      <th>25%</th>\n",
       "      <td>0.944276</td>\n",
       "      <td>3.590580</td>\n",
       "      <td>0.509317</td>\n",
       "      <td>14.569873</td>\n",
       "      <td>8.591810</td>\n",
       "      <td>2.584906</td>\n",
       "      <td>0.422680</td>\n",
       "      <td>-0.543307</td>\n",
       "      <td>1.571121</td>\n",
       "      <td>1.259259</td>\n",
       "      <td>4.487245</td>\n",
       "      <td>5.442446</td>\n",
       "      <td>-0.883234</td>\n",
       "      <td>1.885350</td>\n",
       "      <td>1.193333</td>\n",
       "      <td>22.578704</td>\n",
       "      <td>2.213483</td>\n",
       "      <td>4.372180</td>\n",
       "      <td>5.289216</td>\n",
       "      <td>2.003356</td>\n",
       "    </tr>\n",
       "    <tr>\n",
       "      <th>50%</th>\n",
       "      <td>3.033099</td>\n",
       "      <td>8.254777</td>\n",
       "      <td>5.789286</td>\n",
       "      <td>20.526899</td>\n",
       "      <td>11.534626</td>\n",
       "      <td>20.593060</td>\n",
       "      <td>15.419463</td>\n",
       "      <td>3.360360</td>\n",
       "      <td>8.450505</td>\n",
       "      <td>4.297101</td>\n",
       "      <td>12.710526</td>\n",
       "      <td>8.144112</td>\n",
       "      <td>15.606426</td>\n",
       "      <td>8.977918</td>\n",
       "      <td>6.834459</td>\n",
       "      <td>37.995702</td>\n",
       "      <td>8.000000</td>\n",
       "      <td>7.318519</td>\n",
       "      <td>9.425178</td>\n",
       "      <td>3.878893</td>\n",
       "    </tr>\n",
       "    <tr>\n",
       "      <th>75%</th>\n",
       "      <td>6.361725</td>\n",
       "      <td>21.045603</td>\n",
       "      <td>13.294964</td>\n",
       "      <td>29.899200</td>\n",
       "      <td>28.705263</td>\n",
       "      <td>24.696594</td>\n",
       "      <td>22.674051</td>\n",
       "      <td>13.711864</td>\n",
       "      <td>17.064904</td>\n",
       "      <td>31.882979</td>\n",
       "      <td>17.229381</td>\n",
       "      <td>16.500000</td>\n",
       "      <td>34.984177</td>\n",
       "      <td>17.511364</td>\n",
       "      <td>19.461279</td>\n",
       "      <td>46.355837</td>\n",
       "      <td>13.665217</td>\n",
       "      <td>9.467925</td>\n",
       "      <td>13.225806</td>\n",
       "      <td>7.051546</td>\n",
       "    </tr>\n",
       "    <tr>\n",
       "      <th>max</th>\n",
       "      <td>42.375375</td>\n",
       "      <td>43.310580</td>\n",
       "      <td>23.325077</td>\n",
       "      <td>52.495238</td>\n",
       "      <td>38.360104</td>\n",
       "      <td>35.771626</td>\n",
       "      <td>53.617978</td>\n",
       "      <td>25.293651</td>\n",
       "      <td>39.844037</td>\n",
       "      <td>55.445578</td>\n",
       "      <td>40.793103</td>\n",
       "      <td>28.159016</td>\n",
       "      <td>61.165049</td>\n",
       "      <td>39.847025</td>\n",
       "      <td>47.264605</td>\n",
       "      <td>96.695578</td>\n",
       "      <td>20.180085</td>\n",
       "      <td>13.771812</td>\n",
       "      <td>27.918719</td>\n",
       "      <td>15.503125</td>\n",
       "    </tr>\n",
       "  </tbody>\n",
       "</table>\n",
       "</div>"
      ],
      "text/plain": [
       "origin        ATL        BOS        CLT        DEN        DFW        DTW  \\\n",
       "count   13.000000  13.000000  13.000000  13.000000  13.000000  13.000000   \n",
       "mean     7.049522  11.609776   7.350537  22.283364  18.216483  16.044343   \n",
       "std     12.798122  15.004838   7.499172  16.171575  12.854437  15.286101   \n",
       "min     -5.473046  -9.384106  -1.681250  -0.638838   2.690160  -6.842809   \n",
       "25%      0.944276   3.590580   0.509317  14.569873   8.591810   2.584906   \n",
       "50%      3.033099   8.254777   5.789286  20.526899  11.534626  20.593060   \n",
       "75%      6.361725  21.045603  13.294964  29.899200  28.705263  24.696594   \n",
       "max     42.375375  43.310580  23.325077  52.495238  38.360104  35.771626   \n",
       "\n",
       "origin        EWR        FLL        IAH        JFK        LAS        LAX  \\\n",
       "count   13.000000  13.000000  13.000000  13.000000  13.000000  13.000000   \n",
       "mean    17.213870   6.938287  11.216083  14.613638  11.723369  11.302481   \n",
       "std     18.718574  10.452380  11.488504  22.619487  11.574100  10.193057   \n",
       "min     -5.456446  -7.118721  -0.530120 -14.911877  -3.695418  -2.958559   \n",
       "25%      0.422680  -0.543307   1.571121   1.259259   4.487245   5.442446   \n",
       "50%     15.419463   3.360360   8.450505   4.297101  12.710526   8.144112   \n",
       "75%     22.674051  13.711864  17.064904  31.882979  17.229381  16.500000   \n",
       "max     53.617978  25.293651  39.844037  55.445578  40.793103  28.159016   \n",
       "\n",
       "origin        LGA        MCO        MSP        ORD        PHX        SEA  \\\n",
       "count   13.000000  13.000000  13.000000  13.000000  13.000000  13.000000   \n",
       "mean    17.699715  11.925022   9.627240  39.274123   9.223535   6.526833   \n",
       "std     23.428830  12.647029  14.971524  28.195169   7.051518   4.795902   \n",
       "min    -11.311475  -2.242991  -7.691030   2.735369  -1.161593  -2.761506   \n",
       "25%     -0.883234   1.885350   1.193333  22.578704   2.213483   4.372180   \n",
       "50%     15.606426   8.977918   6.834459  37.995702   8.000000   7.318519   \n",
       "75%     34.984177  17.511364  19.461279  46.355837  13.665217   9.467925   \n",
       "max     61.165049  39.847025  47.264605  96.695578  20.180085  13.771812   \n",
       "\n",
       "origin        SFO        SLC  \n",
       "count   13.000000  13.000000  \n",
       "mean    11.517644   5.083884  \n",
       "std      8.742399   5.910367  \n",
       "min      0.621622  -5.717949  \n",
       "25%      5.289216   2.003356  \n",
       "50%      9.425178   3.878893  \n",
       "75%     13.225806   7.051546  \n",
       "max     27.918719  15.503125  "
      ]
     },
     "execution_count": 139,
     "metadata": {},
     "output_type": "execute_result"
    }
   ],
   "source": [
    "# lets look at flight delays segregated by airports\n",
    "crowded = df.origin.value_counts()[:20]\n",
    "\n",
    "# lets convert this to list so we can use this list with the isin() function.\n",
    "airport_list = crowded.index.tolist()\n",
    "\n",
    "# lets subset for busiest airports\n",
    "\n",
    "busy_airports = df[df.origin.isin(airport_list)]\n",
    "\n",
    "# Lets look at the airport of origin for these long flight delays\n",
    "\n",
    "top_volume = busy_airports.pivot_table(index='flight_date', columns='origin', values='arr_delay')\n",
    "\n",
    "# Summary statistics of these busy airports\n",
    "\n",
    "top_volume.describe()"
   ]
  },
  {
   "cell_type": "code",
   "execution_count": 140,
   "metadata": {},
   "outputs": [
    {
     "data": {
      "text/plain": [
       "<AxesSubplot:>"
      ]
     },
     "execution_count": 140,
     "metadata": {},
     "output_type": "execute_result"
    },
    {
     "data": {
      "image/png": "[encoded data removed]",
      "text/plain": [
       "<Figure size 1152x576 with 1 Axes>"
      ]
     },
     "metadata": {
      "needs_background": "light"
     },
     "output_type": "display_data"
    }
   ],
   "source": [
    "box_plot_air = top_volume\n",
    "box_plot_air.plot(kind='box', figsize=[16,8])"
   ]
  },
  {
   "cell_type": "markdown",
   "metadata": {},
   "source": [
    "It simpler to compare the data now that its in a box plot , wouldnt you agree? . John F Kennedy airport (JFK) had a notable distriibution of delays while LGA ( Laguardia ) airport for example remained evenly distributed. ORD ( O'Hare airport) on the other had was a completely different story as it was 2-3 times more delayed than the rest though out."
   ]
  },
  {
   "cell_type": "markdown",
   "metadata": {},
   "source": [
    "## Covariance\n",
    "#### covariance is defined as the directional relationship between two variables a and b"
   ]
  },
  {
   "cell_type": "code",
   "execution_count": 141,
   "metadata": {},
   "outputs": [
    {
     "data": {
      "text/plain": [
       "<AxesSubplot:xlabel='distance', ylabel='actual_elapsed_time'>"
      ]
     },
     "execution_count": 141,
     "metadata": {},
     "output_type": "execute_result"
    },
    {
     "data": {
      "image/png": "[encoded data removed]",
      "text/plain": [
       "<Figure size 432x288 with 1 Axes>"
      ]
     },
     "metadata": {
      "needs_background": "light"
     },
     "output_type": "display_data"
    }
   ],
   "source": [
    "# lets plot a scatter plot of diffrent dimmensions in the data frame to see how they relate to each other. First we will start with columns distance and actual_elapsed_time\n",
    "\n",
    "sns.scatterplot(data=busy_airports,x='distance',y='actual_elapsed_time',hue='delayed')"
   ]
  },
  {
   "cell_type": "markdown",
   "metadata": {},
   "source": [
    "As you can see there is a positive covariance between distance and actual time elapsed. In ther words these variables tend to move in the same direction either upward or down ward."
   ]
  },
  {
   "cell_type": "code",
   "execution_count": 142,
   "metadata": {},
   "outputs": [
    {
     "data": {
      "text/plain": [
       "<AxesSubplot:xlabel='actual_elapsed_time', ylabel='arr_delay'>"
      ]
     },
     "execution_count": 142,
     "metadata": {},
     "output_type": "execute_result"
    },
    {
     "data": {
      "image/png": "[encoded data removed]",
      "text/plain": [
       "<Figure size 432x288 with 1 Axes>"
      ]
     },
     "metadata": {
      "needs_background": "light"
     },
     "output_type": "display_data"
    }
   ],
   "source": [
    "# Now lets look at two more variables \n",
    "\n",
    "sns.scatterplot(data=busy_airports,y='arr_delay',x='actual_elapsed_time',hue='delayed')"
   ]
  },
  {
   "cell_type": "markdown",
   "metadata": {},
   "source": [
    "Now this plot has a negative covariance , as the elapsed time increases the arrival delay also decreases to an extent."
   ]
  },
  {
   "cell_type": "markdown",
   "metadata": {},
   "source": [
    "## Correlation\n",
    "\n",
    "The correlation between two random variables measures both the strength and direction of a linear relationship that exists between them. There are two ways to measure correlation:\n",
    "\n",
    "* Pearson Correlation Coefficient — captures the strength and direction of the linear association between two continuous variables\n",
    "\n",
    "* Spearman’s Rank Correlation Coefficient—determines the strength and direction of the monotonic relationship which exists between two ordinal (categorical) or continuous variables.\n"
   ]
  },
  {
   "cell_type": "code",
   "execution_count": 143,
   "metadata": {},
   "outputs": [
    {
     "name": "stdout",
     "output_type": "stream",
     "text": [
      "                     Unnamed: 0  flight_num  arr_delay  cancelled  distance  \\\n",
      "Unnamed: 0             1.000000    0.430852   0.088400   0.104023 -0.237150   \n",
      "flight_num             0.430852    1.000000   0.065973   0.086232 -0.351688   \n",
      "arr_delay              0.088400    0.065973   1.000000        NaN -0.043531   \n",
      "cancelled              0.104023    0.086232        NaN   1.000000 -0.076620   \n",
      "distance              -0.237150   -0.351688  -0.043531  -0.076620  1.000000   \n",
      "carrier_delay          0.003640    0.020999   0.562874        NaN  0.027166   \n",
      "weather_delay          0.019708    0.002420   0.288020        NaN -0.019697   \n",
      "late_aircraft_delay    0.020064    0.070512   0.559827        NaN -0.069596   \n",
      "nas_delay              0.074343   -0.018072   0.273016        NaN  0.008921   \n",
      "security_delay        -0.004073   -0.005984   0.001772        NaN  0.012578   \n",
      "actual_elapsed_time   -0.205306   -0.317914   0.025754        NaN  0.962643   \n",
      "delayed                0.065500    0.037498   0.537749  -0.152623 -0.007715   \n",
      "\n",
      "                     carrier_delay  weather_delay  late_aircraft_delay  \\\n",
      "Unnamed: 0                0.003640       0.019708             0.020064   \n",
      "flight_num                0.020999       0.002420             0.070512   \n",
      "arr_delay                 0.562874       0.288020             0.559827   \n",
      "cancelled                      NaN            NaN                  NaN   \n",
      "distance                  0.027166      -0.019697            -0.069596   \n",
      "carrier_delay             1.000000      -0.055941            -0.104691   \n",
      "weather_delay            -0.055941       1.000000            -0.021883   \n",
      "late_aircraft_delay      -0.104691      -0.021883             1.000000   \n",
      "nas_delay                -0.109333       0.010632            -0.124621   \n",
      "security_delay           -0.012049      -0.002473            -0.012614   \n",
      "actual_elapsed_time       0.003225       0.001122            -0.103340   \n",
      "delayed                        NaN            NaN                  NaN   \n",
      "\n",
      "                     nas_delay  security_delay  actual_elapsed_time   delayed  \n",
      "Unnamed: 0            0.074343       -0.004073            -0.205306  0.065500  \n",
      "flight_num           -0.018072       -0.005984            -0.317914  0.037498  \n",
      "arr_delay             0.273016        0.001772             0.025754  0.537749  \n",
      "cancelled                  NaN             NaN                  NaN -0.152623  \n",
      "distance              0.008921        0.012578             0.962643 -0.007715  \n",
      "carrier_delay        -0.109333       -0.012049             0.003225       NaN  \n",
      "weather_delay         0.010632       -0.002473             0.001122       NaN  \n",
      "late_aircraft_delay  -0.124621       -0.012614            -0.103340       NaN  \n",
      "nas_delay             1.000000       -0.013101             0.166272       NaN  \n",
      "security_delay       -0.013101        1.000000             0.008942       NaN  \n",
      "actual_elapsed_time   0.166272        0.008942             1.000000  0.055914  \n",
      "delayed                    NaN             NaN             0.055914  1.000000  \n"
     ]
    },
    {
     "data": {
      "image/png": "[encoded data removed]",
      "text/plain": [
       "<Figure size 432x288 with 2 Axes>"
      ]
     },
     "metadata": {
      "needs_background": "light"
     },
     "output_type": "display_data"
    }
   ],
   "source": [
    "# now lets show the correlation of the data through a heat map\n",
    "\n",
    "print(df.corr())\n",
    "  \n",
    "# plotting correlation heatmap\n",
    "dataplot = sns.heatmap(df.corr(), cmap=\"YlGnBu\", annot=True)\n",
    "  \n",
    "# displaying heatmap\n",
    "plt.show()"
   ]
  },
  {
   "cell_type": "code",
   "execution_count": 144,
   "metadata": {},
   "outputs": [
    {
     "data": {
      "image/png": "[encoded data removed]",
      "text/plain": [
       "<Figure size 432x288 with 2 Axes>"
      ]
     },
     "metadata": {
      "needs_background": "light"
     },
     "output_type": "display_data"
    }
   ],
   "source": [
    "# lets do another heatmap\n",
    "\n",
    "dataplot=sns.heatmap(df.corr())\n",
    "  \n",
    "# displaying heatmap\n",
    "plt.show()"
   ]
  },
  {
   "cell_type": "markdown",
   "metadata": {},
   "source": [
    "As you can see from the above heat map flights delayed are highly correlated with different reasons such as security delay , national air system delay , weather delay , carrier delay , we can also observe the time elasped is highly correlated with the distance of the the travel and the time at which the flight arrives."
   ]
  },
  {
   "cell_type": "markdown",
   "metadata": {},
   "source": [
    "## EDA ( Explanatory Data Anslysis )"
   ]
  },
  {
   "cell_type": "markdown",
   "metadata": {},
   "source": [
    "#### 1. Total number of flights delayed by airlines "
   ]
  },
  {
   "cell_type": "code",
   "execution_count": 145,
   "metadata": {},
   "outputs": [
    {
     "data": {
      "application/vnd.plotly.v1+json": {
       "config": {
        "plotlyServerURL": "https://plot.ly"
       },
       "data": [
        {
         "hovertemplate": "<b>%{hovertext}</b><br><br>Airlines=American Airlines Inc<br>Delayed Flights Percentage %=%{x}<br>Total flights Delayed =%{y}<br>size=%{marker.size}<extra></extra>",
         "hovertext": [
          "American Airlines Inc"
         ],
         "legendgroup": "American Airlines Inc",
         "marker": {
          "color": "#636efa",
          "size": [
           26.238468511704795
          ],
          "sizemode": "area",
          "sizeref": 0.008778579394953297,
          "symbol": "circle"
         },
         "mode": "markers",
         "name": "American Airlines Inc",
         "orientation": "v",
         "showlegend": true,
         "type": "scatter",
         "x": [
          52.47693702340959
         ],
         "xaxis": "x",
         "y": [
          9841
         ],
         "yaxis": "y"
        },
        {
         "hovertemplate": "<b>%{hovertext}</b><br><br>Airlines=Alaska Airlines Inc<br>Delayed Flights Percentage %=%{x}<br>Total flights Delayed =%{y}<br>size=%{marker.size}<extra></extra>",
         "hovertext": [
          "Alaska Airlines Inc"
         ],
         "legendgroup": "Alaska Airlines Inc",
         "marker": {
          "color": "#EF553B",
          "size": [
           18.68229444148464
          ],
          "sizemode": "area",
          "sizeref": 0.008778579394953297,
          "symbol": "circle"
         },
         "mode": "markers",
         "name": "Alaska Airlines Inc",
         "orientation": "v",
         "showlegend": true,
         "type": "scatter",
         "x": [
          37.36458888296928
         ],
         "xaxis": "x",
         "y": [
          2104
         ],
         "yaxis": "y"
        },
        {
         "hovertemplate": "<b>%{hovertext}</b><br><br>Airlines=JetBlue Airways<br>Delayed Flights Percentage %=%{x}<br>Total flights Delayed =%{y}<br>size=%{marker.size}<extra></extra>",
         "hovertext": [
          "JetBlue Airways"
         ],
         "legendgroup": "JetBlue Airways",
         "marker": {
          "color": "#00cc96",
          "size": [
           23.83299036066284
          ],
          "sizemode": "area",
          "sizeref": 0.008778579394953297,
          "symbol": "circle"
         },
         "mode": "markers",
         "name": "JetBlue Airways",
         "orientation": "v",
         "showlegend": true,
         "type": "scatter",
         "x": [
          47.66598072132568
         ],
         "xaxis": "x",
         "y": [
          4401
         ],
         "yaxis": "y"
        },
        {
         "hovertemplate": "<b>%{hovertext}</b><br><br>Airlines=Delta Air Lines Inc<br>Delayed Flights Percentage %=%{x}<br>Total flights Delayed =%{y}<br>size=%{marker.size}<extra></extra>",
         "hovertext": [
          "Delta Air Lines Inc"
         ],
         "legendgroup": "Delta Air Lines Inc",
         "marker": {
          "color": "#ab63fa",
          "size": [
           17.80938885255432
          ],
          "sizemode": "area",
          "sizeref": 0.008778579394953297,
          "symbol": "circle"
         },
         "mode": "markers",
         "name": "Delta Air Lines Inc",
         "orientation": "v",
         "showlegend": true,
         "type": "scatter",
         "x": [
          35.61877770510864
         ],
         "xaxis": "x",
         "y": [
          9803
         ],
         "yaxis": "y"
        },
        {
         "hovertemplate": "<b>%{hovertext}</b><br><br>Airlines=ExpressJet Airlines Inc<br>Delayed Flights Percentage %=%{x}<br>Total flights Delayed =%{y}<br>size=%{marker.size}<extra></extra>",
         "hovertext": [
          "ExpressJet Airlines Inc"
         ],
         "legendgroup": "ExpressJet Airlines Inc",
         "marker": {
          "color": "#FFA15A",
          "size": [
           25.882004825419948
          ],
          "sizemode": "area",
          "sizeref": 0.008778579394953297,
          "symbol": "circle"
         },
         "mode": "markers",
         "name": "ExpressJet Airlines Inc",
         "orientation": "v",
         "showlegend": true,
         "type": "scatter",
         "x": [
          51.764009650839895
         ],
         "xaxis": "x",
         "y": [
          11371
         ],
         "yaxis": "y"
        },
        {
         "hovertemplate": "<b>%{hovertext}</b><br><br>Airlines=Frontier Airlines Inc<br>Delayed Flights Percentage %=%{x}<br>Total flights Delayed =%{y}<br>size=%{marker.size}<extra></extra>",
         "hovertext": [
          "Frontier Airlines Inc"
         ],
         "legendgroup": "Frontier Airlines Inc",
         "marker": {
          "color": "#19d3f3",
          "size": [
           31.311419857675364
          ],
          "sizemode": "area",
          "sizeref": 0.008778579394953297,
          "symbol": "circle"
         },
         "mode": "markers",
         "name": "Frontier Airlines Inc",
         "orientation": "v",
         "showlegend": true,
         "type": "scatter",
         "x": [
          62.62283971535073
         ],
         "xaxis": "x",
         "y": [
          1848
         ],
         "yaxis": "y"
        },
        {
         "hovertemplate": "<b>%{hovertext}</b><br><br>Airlines=Hawaiian Airlines Inc<br>Delayed Flights Percentage %=%{x}<br>Total flights Delayed =%{y}<br>size=%{marker.size}<extra></extra>",
         "hovertext": [
          "Hawaiian Airlines Inc"
         ],
         "legendgroup": "Hawaiian Airlines Inc",
         "marker": {
          "color": "#FF6692",
          "size": [
           25.027726432532347
          ],
          "sizemode": "area",
          "sizeref": 0.008778579394953297,
          "symbol": "circle"
         },
         "mode": "markers",
         "name": "Hawaiian Airlines Inc",
         "orientation": "v",
         "showlegend": true,
         "type": "scatter",
         "x": [
          50.055452865064694
         ],
         "xaxis": "x",
         "y": [
          1354
         ],
         "yaxis": "y"
        },
        {
         "hovertemplate": "<b>%{hovertext}</b><br><br>Airlines=Envoy Air<br>Delayed Flights Percentage %=%{x}<br>Total flights Delayed =%{y}<br>size=%{marker.size}<extra></extra>",
         "hovertext": [
          "Envoy Air"
         ],
         "legendgroup": "Envoy Air",
         "marker": {
          "color": "#B6E880",
          "size": [
           31.602885821831872
          ],
          "sizemode": "area",
          "sizeref": 0.008778579394953297,
          "symbol": "circle"
         },
         "mode": "markers",
         "name": "Envoy Air",
         "orientation": "v",
         "showlegend": true,
         "type": "scatter",
         "x": [
          63.205771643663745
         ],
         "xaxis": "x",
         "y": [
          8060
         ],
         "yaxis": "y"
        },
        {
         "hovertemplate": "<b>%{hovertext}</b><br><br>Airlines=Spirit Air Lines<br>Delayed Flights Percentage %=%{x}<br>Total flights Delayed =%{y}<br>size=%{marker.size}<extra></extra>",
         "hovertext": [
          "Spirit Air Lines"
         ],
         "legendgroup": "Spirit Air Lines",
         "marker": {
          "color": "#FF97FF",
          "size": [
           28.957371707846864
          ],
          "sizemode": "area",
          "sizeref": 0.008778579394953297,
          "symbol": "circle"
         },
         "mode": "markers",
         "name": "Spirit Air Lines",
         "orientation": "v",
         "showlegend": true,
         "type": "scatter",
         "x": [
          57.91474341569373
         ],
         "xaxis": "x",
         "y": [
          2133
         ],
         "yaxis": "y"
        },
        {
         "hovertemplate": "<b>%{hovertext}</b><br><br>Airlines=SkyWest Airlines Inc<br>Delayed Flights Percentage %=%{x}<br>Total flights Delayed =%{y}<br>size=%{marker.size}<extra></extra>",
         "hovertext": [
          "SkyWest Airlines Inc"
         ],
         "legendgroup": "SkyWest Airlines Inc",
         "marker": {
          "color": "#FECB52",
          "size": [
           25.994899186757138
          ],
          "sizemode": "area",
          "sizeref": 0.008778579394953297,
          "symbol": "circle"
         },
         "mode": "markers",
         "name": "SkyWest Airlines Inc",
         "orientation": "v",
         "showlegend": true,
         "type": "scatter",
         "x": [
          51.989798373514276
         ],
         "xaxis": "x",
         "y": [
          10804
         ],
         "yaxis": "y"
        },
        {
         "hovertemplate": "<b>%{hovertext}</b><br><br>Airlines=United Air Lines Inc<br>Delayed Flights Percentage %=%{x}<br>Total flights Delayed =%{y}<br>size=%{marker.size}<extra></extra>",
         "hovertext": [
          "United Air Lines Inc"
         ],
         "legendgroup": "United Air Lines Inc",
         "marker": {
          "color": "#636efa",
          "size": [
           26.11908655884669
          ],
          "sizemode": "area",
          "sizeref": 0.008778579394953297,
          "symbol": "circle"
         },
         "mode": "markers",
         "name": "United Air Lines Inc",
         "orientation": "v",
         "showlegend": true,
         "type": "scatter",
         "x": [
          52.23817311769338
         ],
         "xaxis": "x",
         "y": [
          8624
         ],
         "yaxis": "y"
        },
        {
         "hovertemplate": "<b>%{hovertext}</b><br><br>Airlines=US Airways Inc<br>Delayed Flights Percentage %=%{x}<br>Total flights Delayed =%{y}<br>size=%{marker.size}<extra></extra>",
         "hovertext": [
          "US Airways Inc"
         ],
         "legendgroup": "US Airways Inc",
         "marker": {
          "color": "#EF553B",
          "size": [
           22.364993311272265
          ],
          "sizemode": "area",
          "sizeref": 0.008778579394953297,
          "symbol": "circle"
         },
         "mode": "markers",
         "name": "US Airways Inc",
         "orientation": "v",
         "showlegend": true,
         "type": "scatter",
         "x": [
          44.72998662254453
         ],
         "xaxis": "x",
         "y": [
          6353
         ],
         "yaxis": "y"
        },
        {
         "hovertemplate": "<b>%{hovertext}</b><br><br>Airlines=Virgin America<br>Delayed Flights Percentage %=%{x}<br>Total flights Delayed =%{y}<br>size=%{marker.size}<extra></extra>",
         "hovertext": [
          "Virgin America"
         ],
         "legendgroup": "Virgin America",
         "marker": {
          "color": "#00cc96",
          "size": [
           19.18918918918919
          ],
          "sizemode": "area",
          "sizeref": 0.008778579394953297,
          "symbol": "circle"
         },
         "mode": "markers",
         "name": "Virgin America",
         "orientation": "v",
         "showlegend": true,
         "type": "scatter",
         "x": [
          38.37837837837838
         ],
         "xaxis": "x",
         "y": [
          781
         ],
         "yaxis": "y"
        },
        {
         "hovertemplate": "<b>%{hovertext}</b><br><br>Airlines=Southwest Airlines Co<br>Delayed Flights Percentage %=%{x}<br>Total flights Delayed =%{y}<br>size=%{marker.size}<extra></extra>",
         "hovertext": [
          "Southwest Airlines Co"
         ],
         "legendgroup": "Southwest Airlines Co",
         "marker": {
          "color": "#ab63fa",
          "size": [
           24.627960595263048
          ],
          "sizemode": "area",
          "sizeref": 0.008778579394953297,
          "symbol": "circle"
         },
         "mode": "markers",
         "name": "Southwest Airlines Co",
         "orientation": "v",
         "showlegend": true,
         "type": "scatter",
         "x": [
          49.255921190526095
         ],
         "xaxis": "x",
         "y": [
          21150
         ],
         "yaxis": "y"
        }
       ],
       "layout": {
        "legend": {
         "itemsizing": "constant",
         "title": {
          "text": "Airlines"
         },
         "tracegroupgap": 0
        },
        "template": {
         "data": {
          "bar": [
           {
            "error_x": {
             "color": "#2a3f5f"
            },
            "error_y": {
             "color": "#2a3f5f"
            },
            "marker": {
             "line": {
              "color": "#E5ECF6",
              "width": 0.5
             },
             "pattern": {
              "fillmode": "overlay",
              "size": 10,
              "solidity": 0.2
             }
            },
            "type": "bar"
           }
          ],
          "barpolar": [
           {
            "marker": {
             "line": {
              "color": "#E5ECF6",
              "width": 0.5
             },
             "pattern": {
              "fillmode": "overlay",
              "size": 10,
              "solidity": 0.2
             }
            },
            "type": "barpolar"
           }
          ],
          "carpet": [
           {
            "aaxis": {
             "endlinecolor": "#2a3f5f",
             "gridcolor": "white",
             "linecolor": "white",
             "minorgridcolor": "white",
             "startlinecolor": "#2a3f5f"
            },
            "baxis": {
             "endlinecolor": "#2a3f5f",
             "gridcolor": "white",
             "linecolor": "white",
             "minorgridcolor": "white",
             "startlinecolor": "#2a3f5f"
            },
            "type": "carpet"
           }
          ],
          "choropleth": [
           {
            "colorbar": {
             "outlinewidth": 0,
             "ticks": ""
            },
            "type": "choropleth"
           }
          ],
          "contour": [
           {
            "colorbar": {
             "outlinewidth": 0,
             "ticks": ""
            },
            "colorscale": [
             [
              0,
              "#0d0887"
             ],
             [
              0.1111111111111111,
              "#46039f"
             ],
             [
              0.2222222222222222,
              "#7201a8"
             ],
             [
              0.3333333333333333,
              "#9c179e"
             ],
             [
              0.4444444444444444,
              "#bd3786"
             ],
             [
              0.5555555555555556,
              "#d8576b"
             ],
             [
              0.6666666666666666,
              "#ed7953"
             ],
             [
              0.7777777777777778,
              "#fb9f3a"
             ],
             [
              0.8888888888888888,
              "#fdca26"
             ],
             [
              1,
              "#f0f921"
             ]
            ],
            "type": "contour"
           }
          ],
          "contourcarpet": [
           {
            "colorbar": {
             "outlinewidth": 0,
             "ticks": ""
            },
            "type": "contourcarpet"
           }
          ],
          "heatmap": [
           {
            "colorbar": {
             "outlinewidth": 0,
             "ticks": ""
            },
            "colorscale": [
             [
              0,
              "#0d0887"
             ],
             [
              0.1111111111111111,
              "#46039f"
             ],
             [
              0.2222222222222222,
              "#7201a8"
             ],
             [
              0.3333333333333333,
              "#9c179e"
             ],
             [
              0.4444444444444444,
              "#bd3786"
             ],
             [
              0.5555555555555556,
              "#d8576b"
             ],
             [
              0.6666666666666666,
              "#ed7953"
             ],
             [
              0.7777777777777778,
              "#fb9f3a"
             ],
             [
              0.8888888888888888,
              "#fdca26"
             ],
             [
              1,
              "#f0f921"
             ]
            ],
            "type": "heatmap"
           }
          ],
          "heatmapgl": [
           {
            "colorbar": {
             "outlinewidth": 0,
             "ticks": ""
            },
            "colorscale": [
             [
              0,
              "#0d0887"
             ],
             [
              0.1111111111111111,
              "#46039f"
             ],
             [
              0.2222222222222222,
              "#7201a8"
             ],
             [
              0.3333333333333333,
              "#9c179e"
             ],
             [
              0.4444444444444444,
              "#bd3786"
             ],
             [
              0.5555555555555556,
              "#d8576b"
             ],
             [
              0.6666666666666666,
              "#ed7953"
             ],
             [
              0.7777777777777778,
              "#fb9f3a"
             ],
             [
              0.8888888888888888,
              "#fdca26"
             ],
             [
              1,
              "#f0f921"
             ]
            ],
            "type": "heatmapgl"
           }
          ],
          "histogram": [
           {
            "marker": {
             "pattern": {
              "fillmode": "overlay",
              "size": 10,
              "solidity": 0.2
             }
            },
            "type": "histogram"
           }
          ],
          "histogram2d": [
           {
            "colorbar": {
             "outlinewidth": 0,
             "ticks": ""
            },
            "colorscale": [
             [
              0,
              "#0d0887"
             ],
             [
              0.1111111111111111,
              "#46039f"
             ],
             [
              0.2222222222222222,
              "#7201a8"
             ],
             [
              0.3333333333333333,
              "#9c179e"
             ],
             [
              0.4444444444444444,
              "#bd3786"
             ],
             [
              0.5555555555555556,
              "#d8576b"
             ],
             [
              0.6666666666666666,
              "#ed7953"
             ],
             [
              0.7777777777777778,
              "#fb9f3a"
             ],
             [
              0.8888888888888888,
              "#fdca26"
             ],
             [
              1,
              "#f0f921"
             ]
            ],
            "type": "histogram2d"
           }
          ],
          "histogram2dcontour": [
           {
            "colorbar": {
             "outlinewidth": 0,
             "ticks": ""
            },
            "colorscale": [
             [
              0,
              "#0d0887"
             ],
             [
              0.1111111111111111,
              "#46039f"
             ],
             [
              0.2222222222222222,
              "#7201a8"
             ],
             [
              0.3333333333333333,
              "#9c179e"
             ],
             [
              0.4444444444444444,
              "#bd3786"
             ],
             [
              0.5555555555555556,
              "#d8576b"
             ],
             [
              0.6666666666666666,
              "#ed7953"
             ],
             [
              0.7777777777777778,
              "#fb9f3a"
             ],
             [
              0.8888888888888888,
              "#fdca26"
             ],
             [
              1,
              "#f0f921"
             ]
            ],
            "type": "histogram2dcontour"
           }
          ],
          "mesh3d": [
           {
            "colorbar": {
             "outlinewidth": 0,
             "ticks": ""
            },
            "type": "mesh3d"
           }
          ],
          "parcoords": [
           {
            "line": {
             "colorbar": {
              "outlinewidth": 0,
              "ticks": ""
             }
            },
            "type": "parcoords"
           }
          ],
          "pie": [
           {
            "automargin": true,
            "type": "pie"
           }
          ],
          "scatter": [
           {
            "marker": {
             "colorbar": {
              "outlinewidth": 0,
              "ticks": ""
             }
            },
            "type": "scatter"
           }
          ],
          "scatter3d": [
           {
            "line": {
             "colorbar": {
              "outlinewidth": 0,
              "ticks": ""
             }
            },
            "marker": {
             "colorbar": {
              "outlinewidth": 0,
              "ticks": ""
             }
            },
            "type": "scatter3d"
           }
          ],
          "scattercarpet": [
           {
            "marker": {
             "colorbar": {
              "outlinewidth": 0,
              "ticks": ""
             }
            },
            "type": "scattercarpet"
           }
          ],
          "scattergeo": [
           {
            "marker": {
             "colorbar": {
              "outlinewidth": 0,
              "ticks": ""
             }
            },
            "type": "scattergeo"
           }
          ],
          "scattergl": [
           {
            "marker": {
             "colorbar": {
              "outlinewidth": 0,
              "ticks": ""
             }
            },
            "type": "scattergl"
           }
          ],
          "scattermapbox": [
           {
            "marker": {
             "colorbar": {
              "outlinewidth": 0,
              "ticks": ""
             }
            },
            "type": "scattermapbox"
           }
          ],
          "scatterpolar": [
           {
            "marker": {
             "colorbar": {
              "outlinewidth": 0,
              "ticks": ""
             }
            },
            "type": "scatterpolar"
           }
          ],
          "scatterpolargl": [
           {
            "marker": {
             "colorbar": {
              "outlinewidth": 0,
              "ticks": ""
             }
            },
            "type": "scatterpolargl"
           }
          ],
          "scatterternary": [
           {
            "marker": {
             "colorbar": {
              "outlinewidth": 0,
              "ticks": ""
             }
            },
            "type": "scatterternary"
           }
          ],
          "surface": [
           {
            "colorbar": {
             "outlinewidth": 0,
             "ticks": ""
            },
            "colorscale": [
             [
              0,
              "#0d0887"
             ],
             [
              0.1111111111111111,
              "#46039f"
             ],
             [
              0.2222222222222222,
              "#7201a8"
             ],
             [
              0.3333333333333333,
              "#9c179e"
             ],
             [
              0.4444444444444444,
              "#bd3786"
             ],
             [
              0.5555555555555556,
              "#d8576b"
             ],
             [
              0.6666666666666666,
              "#ed7953"
             ],
             [
              0.7777777777777778,
              "#fb9f3a"
             ],
             [
              0.8888888888888888,
              "#fdca26"
             ],
             [
              1,
              "#f0f921"
             ]
            ],
            "type": "surface"
           }
          ],
          "table": [
           {
            "cells": {
             "fill": {
              "color": "#EBF0F8"
             },
             "line": {
              "color": "white"
             }
            },
            "header": {
             "fill": {
              "color": "#C8D4E3"
             },
             "line": {
              "color": "white"
             }
            },
            "type": "table"
           }
          ]
         },
         "layout": {
          "annotationdefaults": {
           "arrowcolor": "#2a3f5f",
           "arrowhead": 0,
           "arrowwidth": 1
          },
          "autotypenumbers": "strict",
          "coloraxis": {
           "colorbar": {
            "outlinewidth": 0,
            "ticks": ""
           }
          },
          "colorscale": {
           "diverging": [
            [
             0,
             "#8e0152"
            ],
            [
             0.1,
             "#c51b7d"
            ],
            [
             0.2,
             "#de77ae"
            ],
            [
             0.3,
             "#f1b6da"
            ],
            [
             0.4,
             "#fde0ef"
            ],
            [
             0.5,
             "#f7f7f7"
            ],
            [
             0.6,
             "#e6f5d0"
            ],
            [
             0.7,
             "#b8e186"
            ],
            [
             0.8,
             "#7fbc41"
            ],
            [
             0.9,
             "#4d9221"
            ],
            [
             1,
             "#276419"
            ]
           ],
           "sequential": [
            [
             0,
             "#0d0887"
            ],
            [
             0.1111111111111111,
             "#46039f"
            ],
            [
             0.2222222222222222,
             "#7201a8"
            ],
            [
             0.3333333333333333,
             "#9c179e"
            ],
            [
             0.4444444444444444,
             "#bd3786"
            ],
            [
             0.5555555555555556,
             "#d8576b"
            ],
            [
             0.6666666666666666,
             "#ed7953"
            ],
            [
             0.7777777777777778,
             "#fb9f3a"
            ],
            [
             0.8888888888888888,
             "#fdca26"
            ],
            [
             1,
             "#f0f921"
            ]
           ],
           "sequentialminus": [
            [
             0,
             "#0d0887"
            ],
            [
             0.1111111111111111,
             "#46039f"
            ],
            [
             0.2222222222222222,
             "#7201a8"
            ],
            [
             0.3333333333333333,
             "#9c179e"
            ],
            [
             0.4444444444444444,
             "#bd3786"
            ],
            [
             0.5555555555555556,
             "#d8576b"
            ],
            [
             0.6666666666666666,
             "#ed7953"
            ],
            [
             0.7777777777777778,
             "#fb9f3a"
            ],
            [
             0.8888888888888888,
             "#fdca26"
            ],
            [
             1,
             "#f0f921"
            ]
           ]
          },
          "colorway": [
           "#636efa",
           "#EF553B",
           "#00cc96",
           "#ab63fa",
           "#FFA15A",
           "#19d3f3",
           "#FF6692",
           "#B6E880",
           "#FF97FF",
           "#FECB52"
          ],
          "font": {
           "color": "#2a3f5f"
          },
          "geo": {
           "bgcolor": "white",
           "lakecolor": "white",
           "landcolor": "#E5ECF6",
           "showlakes": true,
           "showland": true,
           "subunitcolor": "white"
          },
          "hoverlabel": {
           "align": "left"
          },
          "hovermode": "closest",
          "mapbox": {
           "style": "light"
          },
          "paper_bgcolor": "white",
          "plot_bgcolor": "#E5ECF6",
          "polar": {
           "angularaxis": {
            "gridcolor": "white",
            "linecolor": "white",
            "ticks": ""
           },
           "bgcolor": "#E5ECF6",
           "radialaxis": {
            "gridcolor": "white",
            "linecolor": "white",
            "ticks": ""
           }
          },
          "scene": {
           "xaxis": {
            "backgroundcolor": "#E5ECF6",
            "gridcolor": "white",
            "gridwidth": 2,
            "linecolor": "white",
            "showbackground": true,
            "ticks": "",
            "zerolinecolor": "white"
           },
           "yaxis": {
            "backgroundcolor": "#E5ECF6",
            "gridcolor": "white",
            "gridwidth": 2,
            "linecolor": "white",
            "showbackground": true,
            "ticks": "",
            "zerolinecolor": "white"
           },
           "zaxis": {
            "backgroundcolor": "#E5ECF6",
            "gridcolor": "white",
            "gridwidth": 2,
            "linecolor": "white",
            "showbackground": true,
            "ticks": "",
            "zerolinecolor": "white"
           }
          },
          "shapedefaults": {
           "line": {
            "color": "#2a3f5f"
           }
          },
          "ternary": {
           "aaxis": {
            "gridcolor": "white",
            "linecolor": "white",
            "ticks": ""
           },
           "baxis": {
            "gridcolor": "white",
            "linecolor": "white",
            "ticks": ""
           },
           "bgcolor": "#E5ECF6",
           "caxis": {
            "gridcolor": "white",
            "linecolor": "white",
            "ticks": ""
           }
          },
          "title": {
           "x": 0.05
          },
          "xaxis": {
           "automargin": true,
           "gridcolor": "white",
           "linecolor": "white",
           "ticks": "",
           "title": {
            "standoff": 15
           },
           "zerolinecolor": "white",
           "zerolinewidth": 2
          },
          "yaxis": {
           "automargin": true,
           "gridcolor": "white",
           "linecolor": "white",
           "ticks": "",
           "title": {
            "standoff": 15
           },
           "zerolinecolor": "white",
           "zerolinewidth": 2
          }
         }
        },
        "title": {
         "text": "Airlines to avoid"
        },
        "xaxis": {
         "anchor": "y",
         "domain": [
          0,
          1
         ],
         "title": {
          "text": "Delayed Flights Percentage %"
         },
         "type": "log"
        },
        "yaxis": {
         "anchor": "x",
         "domain": [
          0,
          1
         ],
         "title": {
          "text": "Total flights Delayed "
         }
        }
       }
      }
     },
     "metadata": {},
     "output_type": "display_data"
    }
   ],
   "source": [
    "# Total flights delayed per their respective carrier.\n",
    "\n",
    "proportion1= proportion.reset_index()\n",
    "\n",
    "proportion1.unique_carrier.replace({'AA':'American Airlines Inc',\n",
    "'OO': 'SkyWest Airlines Inc',\n",
    "'DL': 'Delta Air Lines Inc',\n",
    "'NK': 'Spirit Air Lines',\n",
    "'HA': 'Hawaiian Airlines Inc',\n",
    "'WN': 'Southwest Airlines Co',\n",
    "'B6': 'JetBlue Airways',\n",
    "'US': 'US Airways Inc',\n",
    "'AS' :'Alaska Airlines Inc',\n",
    "'MQ' :'Envoy Air',\n",
    "'F9' :'Frontier Airlines Inc',\n",
    "'VX': 'Virgin America',\n",
    "'EV': 'ExpressJet Airlines Inc',\n",
    "'UA': 'United Air Lines Inc'},inplace=True)\n",
    "\n",
    "size1 = proportion['percent_delayed']/2\n",
    "\n",
    "fig = px.scatter(proportion1, x=\"percent_delayed\", y=True,\n",
    "\t         size=size1, color=\"unique_carrier\",\n",
    "                 hover_name=\"unique_carrier\", log_x=True, size_max=60,labels={\n",
    "                     \"percent_delayed\": \"Delayed Flights Percentage %\",\n",
    "                     \"True\": \"Total flights Delayed \",\n",
    "                     \"unique_carrier\": \"Airlines\"\n",
    "                 },\n",
    "                title=\"Airlines to avoid\")\n",
    "fig.show()\n",
    "\n"
   ]
  },
  {
   "cell_type": "markdown",
   "metadata": {},
   "source": [
    "#### 2. Find the airport with the most amount air traffic in other words late or delayed flights"
   ]
  },
  {
   "cell_type": "code",
   "execution_count": 146,
   "metadata": {},
   "outputs": [
    {
     "data": {
      "application/vnd.plotly.v1+json": {
       "config": {
        "plotlyServerURL": "https://plot.ly"
       },
       "data": [
        {
         "hovertemplate": "<b>%{hovertext}</b><br><br>Origin Airport=%{x}<br>Number of delayed Flights=%{marker.color}<extra></extra>",
         "hovertext": [
          "ABE",
          "ABI",
          "ABQ",
          "ABR",
          "ABY",
          "ACT",
          "ACV",
          "ACY",
          "ADQ",
          "AEX",
          "AGS",
          "ALB",
          "ALO",
          "AMA",
          "ANC",
          "APN",
          "ASE",
          "ATL",
          "ATW",
          "AUS",
          "AVL",
          "AVP",
          "AZO",
          "BDL",
          "BET",
          "BFL",
          "BHM",
          "BIL",
          "BIS",
          "BJI",
          "BLI",
          "BMI",
          "BNA",
          "BOI",
          "BOS",
          "BPT",
          "BQK",
          "BQN",
          "BRD",
          "BRO",
          "BRW",
          "BTR",
          "BTV",
          "BUF",
          "BUR",
          "BWI",
          "BZN",
          "CAE",
          "CAK",
          "CDC",
          "CDV",
          "CEC",
          "CHA",
          "CHO",
          "CHS",
          "CID",
          "CIU",
          "CLD",
          "CLE",
          "CLL",
          "CLT",
          "CMH",
          "CMI",
          "CMX",
          "COD",
          "COS",
          "COU",
          "CPR",
          "CRP",
          "CRW",
          "CSG",
          "CVG",
          "CWA",
          "DAB",
          "DAL",
          "DAY",
          "DBQ",
          "DCA",
          "DEN",
          "DFW",
          "DHN",
          "DIK",
          "DLH",
          "DRO",
          "DSM",
          "DTW",
          "DVL",
          "EAU",
          "ECP",
          "EGE",
          "ELM",
          "ELP",
          "ERI",
          "ESC",
          "EUG",
          "EVV",
          "EWN",
          "EWR",
          "EYW",
          "FAI",
          "FAR",
          "FAT",
          "FAY",
          "FCA",
          "FLG",
          "FLL",
          "FNT",
          "FSD",
          "FSM",
          "FWA",
          "GCC",
          "GCK",
          "GEG",
          "GFK",
          "GGG",
          "GJT",
          "GNV",
          "GPT",
          "GRB",
          "GRI",
          "GRK",
          "GRR",
          "GSO",
          "GSP",
          "GTF",
          "GTR",
          "GUC",
          "GUM",
          "HDN",
          "HIB",
          "HLN",
          "HNL",
          "HOB",
          "HOU",
          "HPN",
          "HRL",
          "HSV",
          "HYS",
          "IAD",
          "IAG",
          "IAH",
          "ICT",
          "IDA",
          "ILG",
          "ILM",
          "IMT",
          "IND",
          "INL",
          "ISN",
          "ISP",
          "ITO",
          "JAC",
          "JAN",
          "JAX",
          "JFK",
          "JLN",
          "JMS",
          "JNU",
          "KOA",
          "KTN",
          "LAN",
          "LAR",
          "LAS",
          "LAW",
          "LAX",
          "LBB",
          "LBE",
          "LCH",
          "LEX",
          "LFT",
          "LGA",
          "LGB",
          "LIH",
          "LIT",
          "LNK",
          "LRD",
          "LSE",
          "LWS",
          "MAF",
          "MBS",
          "MCI",
          "MCO",
          "MDT",
          "MDW",
          "MEI",
          "MEM",
          "MFE",
          "MFR",
          "MGM",
          "MHK",
          "MHT",
          "MIA",
          "MKE",
          "MKG",
          "MLB",
          "MLI",
          "MLU",
          "MMH",
          "MOB",
          "MOT",
          "MQT",
          "MRY",
          "MSN",
          "MSO",
          "MSP",
          "MSY",
          "MTJ",
          "MYR",
          "OAJ",
          "OAK",
          "OGG",
          "OKC",
          "OMA",
          "OME",
          "ONT",
          "ORD",
          "ORF",
          "ORH",
          "OTH",
          "OTZ",
          "PAH",
          "PBG",
          "PBI",
          "PDX",
          "PHF",
          "PHL",
          "PHX",
          "PIA",
          "PIB",
          "PIH",
          "PIT",
          "PLN",
          "PNS",
          "PPG",
          "PSC",
          "PSE",
          "PSG",
          "PSP",
          "PUB",
          "PVD",
          "PWM",
          "RAP",
          "RDD",
          "RDM",
          "RDU",
          "RHI",
          "RIC",
          "RKS",
          "RNO",
          "ROA",
          "ROC",
          "ROW",
          "RST",
          "RSW",
          "SAF",
          "SAN",
          "SAT",
          "SAV",
          "SBA",
          "SBN",
          "SBP",
          "SCC",
          "SCE",
          "SDF",
          "SEA",
          "SFO",
          "SGF",
          "SGU",
          "SHV",
          "SIT",
          "SJC",
          "SJT",
          "SJU",
          "SLC",
          "SMF",
          "SMX",
          "SNA",
          "SPI",
          "SPS",
          "SRQ",
          "STC",
          "STL",
          "STT",
          "STX",
          "SUN",
          "SUX",
          "SWF",
          "SYR",
          "TLH",
          "TOL",
          "TPA",
          "TRI",
          "TTN",
          "TUL",
          "TUS",
          "TVC",
          "TWF",
          "TXK",
          "TYR",
          "TYS",
          "UST",
          "VEL",
          "VLD",
          "VPS",
          "WRG",
          "XNA",
          "YAK",
          "YUM"
         ],
         "legendgroup": "",
         "marker": {
          "color": [
           21,
           37,
           210,
           6,
           8,
           26,
           19,
           25,
           2,
           32,
           28,
           76,
           14,
           71,
           48,
           7,
           122,
           2825,
           41,
           310,
           22,
           18,
           41,
           211,
           3,
           24,
           136,
           25,
           48,
           3,
           7,
           50,
           516,
           126,
           1026,
           19,
           8,
           17,
           5,
           18,
           2,
           87,
           41,
           172,
           124,
           1002,
           41,
           64,
           62,
           3,
           5,
           10,
           29,
           27,
           98,
           148,
           7,
           11,
           346,
           31,
           947,
           277,
           44,
           9,
           9,
           94,
           25,
           14,
           60,
           32,
           11,
           216,
           20,
           4,
           577,
           94,
           12,
           718,
           3207,
           3538,
           16,
           16,
           16,
           27,
           137,
           1381,
           7,
           8,
           24,
           42,
           20,
           120,
           19,
           4,
           32,
           53,
           6,
           1323,
           12,
           9,
           76,
           103,
           17,
           14,
           12,
           698,
           51,
           87,
           28,
           53,
           10,
           10,
           83,
           5,
           9,
           27,
           21,
           30,
           54,
           11,
           66,
           160,
           81,
           70,
           21,
           8,
           17,
           4,
           28,
           4,
           13,
           241,
           1,
           556,
           96,
           16,
           51,
           7,
           586,
           5,
           1667,
           77,
           18,
           7,
           14,
           6,
           247,
           5,
           29,
           49,
           34,
           68,
           88,
           164,
           1199,
           12,
           14,
           31,
           72,
           15,
           27,
           7,
           1326,
           19,
           2022,
           61,
           15,
           18,
           85,
           64,
           1371,
           58,
           58,
           117,
           19,
           15,
           20,
           1,
           108,
           27,
           330,
           1137,
           31,
           1135,
           11,
           137,
           35,
           21,
           39,
           24,
           45,
           840,
           376,
           8,
           7,
           83,
           34,
           4,
           58,
           19,
           8,
           24,
           117,
           13,
           982,
           304,
           18,
           34,
           10,
           382,
           169,
           126,
           181,
           2,
           149,
           4818,
           86,
           5,
           2,
           1,
           5,
           7,
           266,
           276,
           19,
           804,
           1468,
           71,
           5,
           5,
           229,
           6,
           70,
           1,
           20,
           3,
           6,
           110,
           11,
           105,
           25,
           32,
           9,
           20,
           277,
           10,
           158,
           7,
           87,
           16,
           79,
           18,
           31,
           352,
           34,
           571,
           259,
           71,
           57,
           75,
           34,
           3,
           15,
           107,
           824,
           1368,
           113,
           7,
           76,
           6,
           345,
           18,
           313,
           711,
           330,
           5,
           261,
           20,
           14,
           31,
           11,
           497,
           67,
           9,
           11,
           8,
           8,
           71,
           30,
           15,
           632,
           14,
           39,
           125,
           116,
           39,
           2,
           15,
           33,
           98,
           3,
           2,
           7,
           37,
           7,
           114,
           5,
           12
          ],
          "coloraxis": "coloraxis",
          "size": [
           21,
           37,
           210,
           6,
           8,
           26,
           19,
           25,
           2,
           32,
           28,
           76,
           14,
           71,
           48,
           7,
           122,
           2825,
           41,
           310,
           22,
           18,
           41,
           211,
           3,
           24,
           136,
           25,
           48,
           3,
           7,
           50,
           516,
           126,
           1026,
           19,
           8,
           17,
           5,
           18,
           2,
           87,
           41,
           172,
           124,
           1002,
           41,
           64,
           62,
           3,
           5,
           10,
           29,
           27,
           98,
           148,
           7,
           11,
           346,
           31,
           947,
           277,
           44,
           9,
           9,
           94,
           25,
           14,
           60,
           32,
           11,
           216,
           20,
           4,
           577,
           94,
           12,
           718,
           3207,
           3538,
           16,
           16,
           16,
           27,
           137,
           1381,
           7,
           8,
           24,
           42,
           20,
           120,
           19,
           4,
           32,
           53,
           6,
           1323,
           12,
           9,
           76,
           103,
           17,
           14,
           12,
           698,
           51,
           87,
           28,
           53,
           10,
           10,
           83,
           5,
           9,
           27,
           21,
           30,
           54,
           11,
           66,
           160,
           81,
           70,
           21,
           8,
           17,
           4,
           28,
           4,
           13,
           241,
           1,
           556,
           96,
           16,
           51,
           7,
           586,
           5,
           1667,
           77,
           18,
           7,
           14,
           6,
           247,
           5,
           29,
           49,
           34,
           68,
           88,
           164,
           1199,
           12,
           14,
           31,
           72,
           15,
           27,
           7,
           1326,
           19,
           2022,
           61,
           15,
           18,
           85,
           64,
           1371,
           58,
           58,
           117,
           19,
           15,
           20,
           1,
           108,
           27,
           330,
           1137,
           31,
           1135,
           11,
           137,
           35,
           21,
           39,
           24,
           45,
           840,
           376,
           8,
           7,
           83,
           34,
           4,
           58,
           19,
           8,
           24,
           117,
           13,
           982,
           304,
           18,
           34,
           10,
           382,
           169,
           126,
           181,
           2,
           149,
           4818,
           86,
           5,
           2,
           1,
           5,
           7,
           266,
           276,
           19,
           804,
           1468,
           71,
           5,
           5,
           229,
           6,
           70,
           1,
           20,
           3,
           6,
           110,
           11,
           105,
           25,
           32,
           9,
           20,
           277,
           10,
           158,
           7,
           87,
           16,
           79,
           18,
           31,
           352,
           34,
           571,
           259,
           71,
           57,
           75,
           34,
           3,
           15,
           107,
           824,
           1368,
           113,
           7,
           76,
           6,
           345,
           18,
           313,
           711,
           330,
           5,
           261,
           20,
           14,
           31,
           11,
           497,
           67,
           9,
           11,
           8,
           8,
           71,
           30,
           15,
           632,
           14,
           39,
           125,
           116,
           39,
           2,
           15,
           33,
           98,
           3,
           2,
           7,
           37,
           7,
           114,
           5,
           12
          ],
          "sizemode": "area",
          "sizeref": 12.045,
          "symbol": "circle"
         },
         "mode": "markers",
         "name": "",
         "orientation": "v",
         "showlegend": false,
         "type": "scatter",
         "x": [
          "ABE",
          "ABI",
          "ABQ",
          "ABR",
          "ABY",
          "ACT",
          "ACV",
          "ACY",
          "ADQ",
          "AEX",
          "AGS",
          "ALB",
          "ALO",
          "AMA",
          "ANC",
          "APN",
          "ASE",
          "ATL",
          "ATW",
          "AUS",
          "AVL",
          "AVP",
          "AZO",
          "BDL",
          "BET",
          "BFL",
          "BHM",
          "BIL",
          "BIS",
          "BJI",
          "BLI",
          "BMI",
          "BNA",
          "BOI",
          "BOS",
          "BPT",
          "BQK",
          "BQN",
          "BRD",
          "BRO",
          "BRW",
          "BTR",
          "BTV",
          "BUF",
          "BUR",
          "BWI",
          "BZN",
          "CAE",
          "CAK",
          "CDC",
          "CDV",
          "CEC",
          "CHA",
          "CHO",
          "CHS",
          "CID",
          "CIU",
          "CLD",
          "CLE",
          "CLL",
          "CLT",
          "CMH",
          "CMI",
          "CMX",
          "COD",
          "COS",
          "COU",
          "CPR",
          "CRP",
          "CRW",
          "CSG",
          "CVG",
          "CWA",
          "DAB",
          "DAL",
          "DAY",
          "DBQ",
          "DCA",
          "DEN",
          "DFW",
          "DHN",
          "DIK",
          "DLH",
          "DRO",
          "DSM",
          "DTW",
          "DVL",
          "EAU",
          "ECP",
          "EGE",
          "ELM",
          "ELP",
          "ERI",
          "ESC",
          "EUG",
          "EVV",
          "EWN",
          "EWR",
          "EYW",
          "FAI",
          "FAR",
          "FAT",
          "FAY",
          "FCA",
          "FLG",
          "FLL",
          "FNT",
          "FSD",
          "FSM",
          "FWA",
          "GCC",
          "GCK",
          "GEG",
          "GFK",
          "GGG",
          "GJT",
          "GNV",
          "GPT",
          "GRB",
          "GRI",
          "GRK",
          "GRR",
          "GSO",
          "GSP",
          "GTF",
          "GTR",
          "GUC",
          "GUM",
          "HDN",
          "HIB",
          "HLN",
          "HNL",
          "HOB",
          "HOU",
          "HPN",
          "HRL",
          "HSV",
          "HYS",
          "IAD",
          "IAG",
          "IAH",
          "ICT",
          "IDA",
          "ILG",
          "ILM",
          "IMT",
          "IND",
          "INL",
          "ISN",
          "ISP",
          "ITO",
          "JAC",
          "JAN",
          "JAX",
          "JFK",
          "JLN",
          "JMS",
          "JNU",
          "KOA",
          "KTN",
          "LAN",
          "LAR",
          "LAS",
          "LAW",
          "LAX",
          "LBB",
          "LBE",
          "LCH",
          "LEX",
          "LFT",
          "LGA",
          "LGB",
          "LIH",
          "LIT",
          "LNK",
          "LRD",
          "LSE",
          "LWS",
          "MAF",
          "MBS",
          "MCI",
          "MCO",
          "MDT",
          "MDW",
          "MEI",
          "MEM",
          "MFE",
          "MFR",
          "MGM",
          "MHK",
          "MHT",
          "MIA",
          "MKE",
          "MKG",
          "MLB",
          "MLI",
          "MLU",
          "MMH",
          "MOB",
          "MOT",
          "MQT",
          "MRY",
          "MSN",
          "MSO",
          "MSP",
          "MSY",
          "MTJ",
          "MYR",
          "OAJ",
          "OAK",
          "OGG",
          "OKC",
          "OMA",
          "OME",
          "ONT",
          "ORD",
          "ORF",
          "ORH",
          "OTH",
          "OTZ",
          "PAH",
          "PBG",
          "PBI",
          "PDX",
          "PHF",
          "PHL",
          "PHX",
          "PIA",
          "PIB",
          "PIH",
          "PIT",
          "PLN",
          "PNS",
          "PPG",
          "PSC",
          "PSE",
          "PSG",
          "PSP",
          "PUB",
          "PVD",
          "PWM",
          "RAP",
          "RDD",
          "RDM",
          "RDU",
          "RHI",
          "RIC",
          "RKS",
          "RNO",
          "ROA",
          "ROC",
          "ROW",
          "RST",
          "RSW",
          "SAF",
          "SAN",
          "SAT",
          "SAV",
          "SBA",
          "SBN",
          "SBP",
          "SCC",
          "SCE",
          "SDF",
          "SEA",
          "SFO",
          "SGF",
          "SGU",
          "SHV",
          "SIT",
          "SJC",
          "SJT",
          "SJU",
          "SLC",
          "SMF",
          "SMX",
          "SNA",
          "SPI",
          "SPS",
          "SRQ",
          "STC",
          "STL",
          "STT",
          "STX",
          "SUN",
          "SUX",
          "SWF",
          "SYR",
          "TLH",
          "TOL",
          "TPA",
          "TRI",
          "TTN",
          "TUL",
          "TUS",
          "TVC",
          "TWF",
          "TXK",
          "TYR",
          "TYS",
          "UST",
          "VEL",
          "VLD",
          "VPS",
          "WRG",
          "XNA",
          "YAK",
          "YUM"
         ],
         "xaxis": "x",
         "y": [
          21,
          37,
          210,
          6,
          8,
          26,
          19,
          25,
          2,
          32,
          28,
          76,
          14,
          71,
          48,
          7,
          122,
          2825,
          41,
          310,
          22,
          18,
          41,
          211,
          3,
          24,
          136,
          25,
          48,
          3,
          7,
          50,
          516,
          126,
          1026,
          19,
          8,
          17,
          5,
          18,
          2,
          87,
          41,
          172,
          124,
          1002,
          41,
          64,
          62,
          3,
          5,
          10,
          29,
          27,
          98,
          148,
          7,
          11,
          346,
          31,
          947,
          277,
          44,
          9,
          9,
          94,
          25,
          14,
          60,
          32,
          11,
          216,
          20,
          4,
          577,
          94,
          12,
          718,
          3207,
          3538,
          16,
          16,
          16,
          27,
          137,
          1381,
          7,
          8,
          24,
          42,
          20,
          120,
          19,
          4,
          32,
          53,
          6,
          1323,
          12,
          9,
          76,
          103,
          17,
          14,
          12,
          698,
          51,
          87,
          28,
          53,
          10,
          10,
          83,
          5,
          9,
          27,
          21,
          30,
          54,
          11,
          66,
          160,
          81,
          70,
          21,
          8,
          17,
          4,
          28,
          4,
          13,
          241,
          1,
          556,
          96,
          16,
          51,
          7,
          586,
          5,
          1667,
          77,
          18,
          7,
          14,
          6,
          247,
          5,
          29,
          49,
          34,
          68,
          88,
          164,
          1199,
          12,
          14,
          31,
          72,
          15,
          27,
          7,
          1326,
          19,
          2022,
          61,
          15,
          18,
          85,
          64,
          1371,
          58,
          58,
          117,
          19,
          15,
          20,
          1,
          108,
          27,
          330,
          1137,
          31,
          1135,
          11,
          137,
          35,
          21,
          39,
          24,
          45,
          840,
          376,
          8,
          7,
          83,
          34,
          4,
          58,
          19,
          8,
          24,
          117,
          13,
          982,
          304,
          18,
          34,
          10,
          382,
          169,
          126,
          181,
          2,
          149,
          4818,
          86,
          5,
          2,
          1,
          5,
          7,
          266,
          276,
          19,
          804,
          1468,
          71,
          5,
          5,
          229,
          6,
          70,
          1,
          20,
          3,
          6,
          110,
          11,
          105,
          25,
          32,
          9,
          20,
          277,
          10,
          158,
          7,
          87,
          16,
          79,
          18,
          31,
          352,
          34,
          571,
          259,
          71,
          57,
          75,
          34,
          3,
          15,
          107,
          824,
          1368,
          113,
          7,
          76,
          6,
          345,
          18,
          313,
          711,
          330,
          5,
          261,
          20,
          14,
          31,
          11,
          497,
          67,
          9,
          11,
          8,
          8,
          71,
          30,
          15,
          632,
          14,
          39,
          125,
          116,
          39,
          2,
          15,
          33,
          98,
          3,
          2,
          7,
          37,
          7,
          114,
          5,
          12
         ],
         "yaxis": "y"
        }
       ],
       "layout": {
        "coloraxis": {
         "colorbar": {
          "title": {
           "text": "Number of delayed Flights"
          }
         },
         "colorscale": [
          [
           0,
           "#0d0887"
          ],
          [
           0.1111111111111111,
           "#46039f"
          ],
          [
           0.2222222222222222,
           "#7201a8"
          ],
          [
           0.3333333333333333,
           "#9c179e"
          ],
          [
           0.4444444444444444,
           "#bd3786"
          ],
          [
           0.5555555555555556,
           "#d8576b"
          ],
          [
           0.6666666666666666,
           "#ed7953"
          ],
          [
           0.7777777777777778,
           "#fb9f3a"
          ],
          [
           0.8888888888888888,
           "#fdca26"
          ],
          [
           1,
           "#f0f921"
          ]
         ]
        },
        "legend": {
         "itemsizing": "constant",
         "tracegroupgap": 0
        },
        "template": {
         "data": {
          "bar": [
           {
            "error_x": {
             "color": "#2a3f5f"
            },
            "error_y": {
             "color": "#2a3f5f"
            },
            "marker": {
             "line": {
              "color": "#E5ECF6",
              "width": 0.5
             },
             "pattern": {
              "fillmode": "overlay",
              "size": 10,
              "solidity": 0.2
             }
            },
            "type": "bar"
           }
          ],
          "barpolar": [
           {
            "marker": {
             "line": {
              "color": "#E5ECF6",
              "width": 0.5
             },
             "pattern": {
              "fillmode": "overlay",
              "size": 10,
              "solidity": 0.2
             }
            },
            "type": "barpolar"
           }
          ],
          "carpet": [
           {
            "aaxis": {
             "endlinecolor": "#2a3f5f",
             "gridcolor": "white",
             "linecolor": "white",
             "minorgridcolor": "white",
             "startlinecolor": "#2a3f5f"
            },
            "baxis": {
             "endlinecolor": "#2a3f5f",
             "gridcolor": "white",
             "linecolor": "white",
             "minorgridcolor": "white",
             "startlinecolor": "#2a3f5f"
            },
            "type": "carpet"
           }
          ],
          "choropleth": [
           {
            "colorbar": {
             "outlinewidth": 0,
             "ticks": ""
            },
            "type": "choropleth"
           }
          ],
          "contour": [
           {
            "colorbar": {
             "outlinewidth": 0,
             "ticks": ""
            },
            "colorscale": [
             [
              0,
              "#0d0887"
             ],
             [
              0.1111111111111111,
              "#46039f"
             ],
             [
              0.2222222222222222,
              "#7201a8"
             ],
             [
              0.3333333333333333,
              "#9c179e"
             ],
             [
              0.4444444444444444,
              "#bd3786"
             ],
             [
              0.5555555555555556,
              "#d8576b"
             ],
             [
              0.6666666666666666,
              "#ed7953"
             ],
             [
              0.7777777777777778,
              "#fb9f3a"
             ],
             [
              0.8888888888888888,
              "#fdca26"
             ],
             [
              1,
              "#f0f921"
             ]
            ],
            "type": "contour"
           }
          ],
          "contourcarpet": [
           {
            "colorbar": {
             "outlinewidth": 0,
             "ticks": ""
            },
            "type": "contourcarpet"
           }
          ],
          "heatmap": [
           {
            "colorbar": {
             "outlinewidth": 0,
             "ticks": ""
            },
            "colorscale": [
             [
              0,
              "#0d0887"
             ],
             [
              0.1111111111111111,
              "#46039f"
             ],
             [
              0.2222222222222222,
              "#7201a8"
             ],
             [
              0.3333333333333333,
              "#9c179e"
             ],
             [
              0.4444444444444444,
              "#bd3786"
             ],
             [
              0.5555555555555556,
              "#d8576b"
             ],
             [
              0.6666666666666666,
              "#ed7953"
             ],
             [
              0.7777777777777778,
              "#fb9f3a"
             ],
             [
              0.8888888888888888,
              "#fdca26"
             ],
             [
              1,
              "#f0f921"
             ]
            ],
            "type": "heatmap"
           }
          ],
          "heatmapgl": [
           {
            "colorbar": {
             "outlinewidth": 0,
             "ticks": ""
            },
            "colorscale": [
             [
              0,
              "#0d0887"
             ],
             [
              0.1111111111111111,
              "#46039f"
             ],
             [
              0.2222222222222222,
              "#7201a8"
             ],
             [
              0.3333333333333333,
              "#9c179e"
             ],
             [
              0.4444444444444444,
              "#bd3786"
             ],
             [
              0.5555555555555556,
              "#d8576b"
             ],
             [
              0.6666666666666666,
              "#ed7953"
             ],
             [
              0.7777777777777778,
              "#fb9f3a"
             ],
             [
              0.8888888888888888,
              "#fdca26"
             ],
             [
              1,
              "#f0f921"
             ]
            ],
            "type": "heatmapgl"
           }
          ],
          "histogram": [
           {
            "marker": {
             "pattern": {
              "fillmode": "overlay",
              "size": 10,
              "solidity": 0.2
             }
            },
            "type": "histogram"
           }
          ],
          "histogram2d": [
           {
            "colorbar": {
             "outlinewidth": 0,
             "ticks": ""
            },
            "colorscale": [
             [
              0,
              "#0d0887"
             ],
             [
              0.1111111111111111,
              "#46039f"
             ],
             [
              0.2222222222222222,
              "#7201a8"
             ],
             [
              0.3333333333333333,
              "#9c179e"
             ],
             [
              0.4444444444444444,
              "#bd3786"
             ],
             [
              0.5555555555555556,
              "#d8576b"
             ],
             [
              0.6666666666666666,
              "#ed7953"
             ],
             [
              0.7777777777777778,
              "#fb9f3a"
             ],
             [
              0.8888888888888888,
              "#fdca26"
             ],
             [
              1,
              "#f0f921"
             ]
            ],
            "type": "histogram2d"
           }
          ],
          "histogram2dcontour": [
           {
            "colorbar": {
             "outlinewidth": 0,
             "ticks": ""
            },
            "colorscale": [
             [
              0,
              "#0d0887"
             ],
             [
              0.1111111111111111,
              "#46039f"
             ],
             [
              0.2222222222222222,
              "#7201a8"
             ],
             [
              0.3333333333333333,
              "#9c179e"
             ],
             [
              0.4444444444444444,
              "#bd3786"
             ],
             [
              0.5555555555555556,
              "#d8576b"
             ],
             [
              0.6666666666666666,
              "#ed7953"
             ],
             [
              0.7777777777777778,
              "#fb9f3a"
             ],
             [
              0.8888888888888888,
              "#fdca26"
             ],
             [
              1,
              "#f0f921"
             ]
            ],
            "type": "histogram2dcontour"
           }
          ],
          "mesh3d": [
           {
            "colorbar": {
             "outlinewidth": 0,
             "ticks": ""
            },
            "type": "mesh3d"
           }
          ],
          "parcoords": [
           {
            "line": {
             "colorbar": {
              "outlinewidth": 0,
              "ticks": ""
             }
            },
            "type": "parcoords"
           }
          ],
          "pie": [
           {
            "automargin": true,
            "type": "pie"
           }
          ],
          "scatter": [
           {
            "marker": {
             "colorbar": {
              "outlinewidth": 0,
              "ticks": ""
             }
            },
            "type": "scatter"
           }
          ],
          "scatter3d": [
           {
            "line": {
             "colorbar": {
              "outlinewidth": 0,
              "ticks": ""
             }
            },
            "marker": {
             "colorbar": {
              "outlinewidth": 0,
              "ticks": ""
             }
            },
            "type": "scatter3d"
           }
          ],
          "scattercarpet": [
           {
            "marker": {
             "colorbar": {
              "outlinewidth": 0,
              "ticks": ""
             }
            },
            "type": "scattercarpet"
           }
          ],
          "scattergeo": [
           {
            "marker": {
             "colorbar": {
              "outlinewidth": 0,
              "ticks": ""
             }
            },
            "type": "scattergeo"
           }
          ],
          "scattergl": [
           {
            "marker": {
             "colorbar": {
              "outlinewidth": 0,
              "ticks": ""
             }
            },
            "type": "scattergl"
           }
          ],
          "scattermapbox": [
           {
            "marker": {
             "colorbar": {
              "outlinewidth": 0,
              "ticks": ""
             }
            },
            "type": "scattermapbox"
           }
          ],
          "scatterpolar": [
           {
            "marker": {
             "colorbar": {
              "outlinewidth": 0,
              "ticks": ""
             }
            },
            "type": "scatterpolar"
           }
          ],
          "scatterpolargl": [
           {
            "marker": {
             "colorbar": {
              "outlinewidth": 0,
              "ticks": ""
             }
            },
            "type": "scatterpolargl"
           }
          ],
          "scatterternary": [
           {
            "marker": {
             "colorbar": {
              "outlinewidth": 0,
              "ticks": ""
             }
            },
            "type": "scatterternary"
           }
          ],
          "surface": [
           {
            "colorbar": {
             "outlinewidth": 0,
             "ticks": ""
            },
            "colorscale": [
             [
              0,
              "#0d0887"
             ],
             [
              0.1111111111111111,
              "#46039f"
             ],
             [
              0.2222222222222222,
              "#7201a8"
             ],
             [
              0.3333333333333333,
              "#9c179e"
             ],
             [
              0.4444444444444444,
              "#bd3786"
             ],
             [
              0.5555555555555556,
              "#d8576b"
             ],
             [
              0.6666666666666666,
              "#ed7953"
             ],
             [
              0.7777777777777778,
              "#fb9f3a"
             ],
             [
              0.8888888888888888,
              "#fdca26"
             ],
             [
              1,
              "#f0f921"
             ]
            ],
            "type": "surface"
           }
          ],
          "table": [
           {
            "cells": {
             "fill": {
              "color": "#EBF0F8"
             },
             "line": {
              "color": "white"
             }
            },
            "header": {
             "fill": {
              "color": "#C8D4E3"
             },
             "line": {
              "color": "white"
             }
            },
            "type": "table"
           }
          ]
         },
         "layout": {
          "annotationdefaults": {
           "arrowcolor": "#2a3f5f",
           "arrowhead": 0,
           "arrowwidth": 1
          },
          "autotypenumbers": "strict",
          "coloraxis": {
           "colorbar": {
            "outlinewidth": 0,
            "ticks": ""
           }
          },
          "colorscale": {
           "diverging": [
            [
             0,
             "#8e0152"
            ],
            [
             0.1,
             "#c51b7d"
            ],
            [
             0.2,
             "#de77ae"
            ],
            [
             0.3,
             "#f1b6da"
            ],
            [
             0.4,
             "#fde0ef"
            ],
            [
             0.5,
             "#f7f7f7"
            ],
            [
             0.6,
             "#e6f5d0"
            ],
            [
             0.7,
             "#b8e186"
            ],
            [
             0.8,
             "#7fbc41"
            ],
            [
             0.9,
             "#4d9221"
            ],
            [
             1,
             "#276419"
            ]
           ],
           "sequential": [
            [
             0,
             "#0d0887"
            ],
            [
             0.1111111111111111,
             "#46039f"
            ],
            [
             0.2222222222222222,
             "#7201a8"
            ],
            [
             0.3333333333333333,
             "#9c179e"
            ],
            [
             0.4444444444444444,
             "#bd3786"
            ],
            [
             0.5555555555555556,
             "#d8576b"
            ],
            [
             0.6666666666666666,
             "#ed7953"
            ],
            [
             0.7777777777777778,
             "#fb9f3a"
            ],
            [
             0.8888888888888888,
             "#fdca26"
            ],
            [
             1,
             "#f0f921"
            ]
           ],
           "sequentialminus": [
            [
             0,
             "#0d0887"
            ],
            [
             0.1111111111111111,
             "#46039f"
            ],
            [
             0.2222222222222222,
             "#7201a8"
            ],
            [
             0.3333333333333333,
             "#9c179e"
            ],
            [
             0.4444444444444444,
             "#bd3786"
            ],
            [
             0.5555555555555556,
             "#d8576b"
            ],
            [
             0.6666666666666666,
             "#ed7953"
            ],
            [
             0.7777777777777778,
             "#fb9f3a"
            ],
            [
             0.8888888888888888,
             "#fdca26"
            ],
            [
             1,
             "#f0f921"
            ]
           ]
          },
          "colorway": [
           "#636efa",
           "#EF553B",
           "#00cc96",
           "#ab63fa",
           "#FFA15A",
           "#19d3f3",
           "#FF6692",
           "#B6E880",
           "#FF97FF",
           "#FECB52"
          ],
          "font": {
           "color": "#2a3f5f"
          },
          "geo": {
           "bgcolor": "white",
           "lakecolor": "white",
           "landcolor": "#E5ECF6",
           "showlakes": true,
           "showland": true,
           "subunitcolor": "white"
          },
          "hoverlabel": {
           "align": "left"
          },
          "hovermode": "closest",
          "mapbox": {
           "style": "light"
          },
          "paper_bgcolor": "white",
          "plot_bgcolor": "#E5ECF6",
          "polar": {
           "angularaxis": {
            "gridcolor": "white",
            "linecolor": "white",
            "ticks": ""
           },
           "bgcolor": "#E5ECF6",
           "radialaxis": {
            "gridcolor": "white",
            "linecolor": "white",
            "ticks": ""
           }
          },
          "scene": {
           "xaxis": {
            "backgroundcolor": "#E5ECF6",
            "gridcolor": "white",
            "gridwidth": 2,
            "linecolor": "white",
            "showbackground": true,
            "ticks": "",
            "zerolinecolor": "white"
           },
           "yaxis": {
            "backgroundcolor": "#E5ECF6",
            "gridcolor": "white",
            "gridwidth": 2,
            "linecolor": "white",
            "showbackground": true,
            "ticks": "",
            "zerolinecolor": "white"
           },
           "zaxis": {
            "backgroundcolor": "#E5ECF6",
            "gridcolor": "white",
            "gridwidth": 2,
            "linecolor": "white",
            "showbackground": true,
            "ticks": "",
            "zerolinecolor": "white"
           }
          },
          "shapedefaults": {
           "line": {
            "color": "#2a3f5f"
           }
          },
          "ternary": {
           "aaxis": {
            "gridcolor": "white",
            "linecolor": "white",
            "ticks": ""
           },
           "baxis": {
            "gridcolor": "white",
            "linecolor": "white",
            "ticks": ""
           },
           "bgcolor": "#E5ECF6",
           "caxis": {
            "gridcolor": "white",
            "linecolor": "white",
            "ticks": ""
           }
          },
          "title": {
           "x": 0.05
          },
          "xaxis": {
           "automargin": true,
           "gridcolor": "white",
           "linecolor": "white",
           "ticks": "",
           "title": {
            "standoff": 15
           },
           "zerolinecolor": "white",
           "zerolinewidth": 2
          },
          "yaxis": {
           "automargin": true,
           "gridcolor": "white",
           "linecolor": "white",
           "ticks": "",
           "title": {
            "standoff": 15
           },
           "zerolinecolor": "white",
           "zerolinewidth": 2
          }
         }
        },
        "title": {
         "text": "Airports to avoid"
        },
        "xaxis": {
         "anchor": "y",
         "domain": [
          0,
          1
         ],
         "title": {
          "text": "Origin Airport"
         }
        },
        "yaxis": {
         "anchor": "x",
         "domain": [
          0,
          1
         ],
         "title": {
          "text": "Number of delayed Flights"
         }
        }
       }
      }
     },
     "metadata": {},
     "output_type": "display_data"
    }
   ],
   "source": [
    "# plot the most busy airports with the largest number of delayed flights\n",
    "\n",
    "df2 = df.dropna()\n",
    "\n",
    "# subset for delayed flights and groub by origin destination to get a count of delayed flights from that particular location\n",
    "\n",
    "df2 =df2[['origin','delayed','arr_delay']]\n",
    "plot1 = df2[df2['delayed']==True].groupby('origin').size().reset_index(name='counts')\n",
    "plot1\n",
    "\n",
    "# plot\n",
    "fig = px.scatter(plot1,x='origin',y='counts',size='counts', color='counts',hover_name='origin',labels={\n",
    "                     \"origin\": \"Origin Airport\",\n",
    "                     \"counts\": \"Number of delayed Flights\",\n",
    "                     \n",
    "                 },\n",
    "                title=\"Airports to avoid\")\n",
    "fig.show()\n"
   ]
  },
  {
   "cell_type": "markdown",
   "metadata": {},
   "source": [
    "From the above scatter plot we can confirm that the 4 most busiest airports with a large numner of delayed flights are ORD , DFW , DEN , ATL. These are the airports to avoid."
   ]
  },
  {
   "cell_type": "markdown",
   "metadata": {},
   "source": [
    "#### 3. Delayed Flights by Day of week"
   ]
  },
  {
   "cell_type": "code",
   "execution_count": 147,
   "metadata": {},
   "outputs": [
    {
     "name": "stderr",
     "output_type": "stream",
     "text": [
      "C:\\Users\\Kumarappan M\\AppData\\Roaming\\Python\\Python39\\site-packages\\pandas\\core\\frame.py:3607: SettingWithCopyWarning:\n",
      "\n",
      "\n",
      "A value is trying to be set on a copy of a slice from a DataFrame.\n",
      "Try using .loc[row_indexer,col_indexer] = value instead\n",
      "\n",
      "See the caveats in the documentation: https://pandas.pydata.org/pandas-docs/stable/user_guide/indexing.html#returning-a-view-versus-a-copy\n",
      "\n"
     ]
    },
    {
     "data": {
      "text/html": [
       "<div>\n",
       "<style scoped>\n",
       "    .dataframe tbody tr th:only-of-type {\n",
       "        vertical-align: middle;\n",
       "    }\n",
       "\n",
       "    .dataframe tbody tr th {\n",
       "        vertical-align: top;\n",
       "    }\n",
       "\n",
       "    .dataframe thead th {\n",
       "        text-align: right;\n",
       "    }\n",
       "</style>\n",
       "<table border=\"1\" class=\"dataframe\">\n",
       "  <thead>\n",
       "    <tr style=\"text-align: right;\">\n",
       "      <th></th>\n",
       "      <th>flight_day</th>\n",
       "      <th>counts</th>\n",
       "    </tr>\n",
       "  </thead>\n",
       "  <tbody>\n",
       "    <tr>\n",
       "      <th>0</th>\n",
       "      <td>Friday</td>\n",
       "      <td>15871</td>\n",
       "    </tr>\n",
       "    <tr>\n",
       "      <th>1</th>\n",
       "      <td>Monday</td>\n",
       "      <td>17840</td>\n",
       "    </tr>\n",
       "    <tr>\n",
       "      <th>2</th>\n",
       "      <td>Saturday</td>\n",
       "      <td>14272</td>\n",
       "    </tr>\n",
       "    <tr>\n",
       "      <th>3</th>\n",
       "      <td>Sunday</td>\n",
       "      <td>17546</td>\n",
       "    </tr>\n",
       "    <tr>\n",
       "      <th>4</th>\n",
       "      <td>Thursday</td>\n",
       "      <td>6718</td>\n",
       "    </tr>\n",
       "    <tr>\n",
       "      <th>5</th>\n",
       "      <td>Tuesday</td>\n",
       "      <td>14145</td>\n",
       "    </tr>\n",
       "    <tr>\n",
       "      <th>6</th>\n",
       "      <td>Wednesday</td>\n",
       "      <td>12235</td>\n",
       "    </tr>\n",
       "  </tbody>\n",
       "</table>\n",
       "</div>"
      ],
      "text/plain": [
       "  flight_day  counts\n",
       "0     Friday   15871\n",
       "1     Monday   17840\n",
       "2   Saturday   14272\n",
       "3     Sunday   17546\n",
       "4   Thursday    6718\n",
       "5    Tuesday   14145\n",
       "6  Wednesday   12235"
      ]
     },
     "execution_count": 147,
     "metadata": {},
     "output_type": "execute_result"
    }
   ],
   "source": [
    "from datetime import datetime\n",
    "days = {0:'Monday', 1:'Tuesday', 2: 'Wednesday', 3:'Thursday', 4:'Friday',5: 'Saturday', 6:'Sunday'}\n",
    "df3 = delayed_flights[['flight_date','arr_delay','delayed']]\n",
    "df3['flight_date'] = pd.to_datetime(df3['flight_date'])\n",
    "df3['flight_day'] = df3['flight_date'].dt.weekday\n",
    "df3['flight_day'] = df3.flight_day.replace(days)\n",
    "\n",
    "df4=df3\n",
    "df4 = df4.groupby('flight_day').size().reset_index(name='counts')\n",
    "df4"
   ]
  },
  {
   "cell_type": "code",
   "execution_count": 148,
   "metadata": {},
   "outputs": [
    {
     "data": {
      "application/vnd.plotly.v1+json": {
       "config": {
        "plotlyServerURL": "https://plot.ly"
       },
       "data": [
        {
         "alignmentgroup": "True",
         "hovertemplate": "Day=%{x}<br>Number of Delayed Flights=%{y}<extra></extra>",
         "legendgroup": "",
         "marker": {
          "color": "#636efa",
          "pattern": {
           "shape": ""
          }
         },
         "name": "",
         "offsetgroup": "",
         "orientation": "v",
         "showlegend": false,
         "textposition": "auto",
         "type": "bar",
         "x": [
          "Friday",
          "Monday",
          "Saturday",
          "Sunday",
          "Thursday",
          "Tuesday",
          "Wednesday"
         ],
         "xaxis": "x",
         "y": [
          15871,
          17840,
          14272,
          17546,
          6718,
          14145,
          12235
         ],
         "yaxis": "y"
        }
       ],
       "layout": {
        "barmode": "relative",
        "legend": {
         "tracegroupgap": 0
        },
        "template": {
         "data": {
          "bar": [
           {
            "error_x": {
             "color": "#2a3f5f"
            },
            "error_y": {
             "color": "#2a3f5f"
            },
            "marker": {
             "line": {
              "color": "#E5ECF6",
              "width": 0.5
             },
             "pattern": {
              "fillmode": "overlay",
              "size": 10,
              "solidity": 0.2
             }
            },
            "type": "bar"
           }
          ],
          "barpolar": [
           {
            "marker": {
             "line": {
              "color": "#E5ECF6",
              "width": 0.5
             },
             "pattern": {
              "fillmode": "overlay",
              "size": 10,
              "solidity": 0.2
             }
            },
            "type": "barpolar"
           }
          ],
          "carpet": [
           {
            "aaxis": {
             "endlinecolor": "#2a3f5f",
             "gridcolor": "white",
             "linecolor": "white",
             "minorgridcolor": "white",
             "startlinecolor": "#2a3f5f"
            },
            "baxis": {
             "endlinecolor": "#2a3f5f",
             "gridcolor": "white",
             "linecolor": "white",
             "minorgridcolor": "white",
             "startlinecolor": "#2a3f5f"
            },
            "type": "carpet"
           }
          ],
          "choropleth": [
           {
            "colorbar": {
             "outlinewidth": 0,
             "ticks": ""
            },
            "type": "choropleth"
           }
          ],
          "contour": [
           {
            "colorbar": {
             "outlinewidth": 0,
             "ticks": ""
            },
            "colorscale": [
             [
              0,
              "#0d0887"
             ],
             [
              0.1111111111111111,
              "#46039f"
             ],
             [
              0.2222222222222222,
              "#7201a8"
             ],
             [
              0.3333333333333333,
              "#9c179e"
             ],
             [
              0.4444444444444444,
              "#bd3786"
             ],
             [
              0.5555555555555556,
              "#d8576b"
             ],
             [
              0.6666666666666666,
              "#ed7953"
             ],
             [
              0.7777777777777778,
              "#fb9f3a"
             ],
             [
              0.8888888888888888,
              "#fdca26"
             ],
             [
              1,
              "#f0f921"
             ]
            ],
            "type": "contour"
           }
          ],
          "contourcarpet": [
           {
            "colorbar": {
             "outlinewidth": 0,
             "ticks": ""
            },
            "type": "contourcarpet"
           }
          ],
          "heatmap": [
           {
            "colorbar": {
             "outlinewidth": 0,
             "ticks": ""
            },
            "colorscale": [
             [
              0,
              "#0d0887"
             ],
             [
              0.1111111111111111,
              "#46039f"
             ],
             [
              0.2222222222222222,
              "#7201a8"
             ],
             [
              0.3333333333333333,
              "#9c179e"
             ],
             [
              0.4444444444444444,
              "#bd3786"
             ],
             [
              0.5555555555555556,
              "#d8576b"
             ],
             [
              0.6666666666666666,
              "#ed7953"
             ],
             [
              0.7777777777777778,
              "#fb9f3a"
             ],
             [
              0.8888888888888888,
              "#fdca26"
             ],
             [
              1,
              "#f0f921"
             ]
            ],
            "type": "heatmap"
           }
          ],
          "heatmapgl": [
           {
            "colorbar": {
             "outlinewidth": 0,
             "ticks": ""
            },
            "colorscale": [
             [
              0,
              "#0d0887"
             ],
             [
              0.1111111111111111,
              "#46039f"
             ],
             [
              0.2222222222222222,
              "#7201a8"
             ],
             [
              0.3333333333333333,
              "#9c179e"
             ],
             [
              0.4444444444444444,
              "#bd3786"
             ],
             [
              0.5555555555555556,
              "#d8576b"
             ],
             [
              0.6666666666666666,
              "#ed7953"
             ],
             [
              0.7777777777777778,
              "#fb9f3a"
             ],
             [
              0.8888888888888888,
              "#fdca26"
             ],
             [
              1,
              "#f0f921"
             ]
            ],
            "type": "heatmapgl"
           }
          ],
          "histogram": [
           {
            "marker": {
             "pattern": {
              "fillmode": "overlay",
              "size": 10,
              "solidity": 0.2
             }
            },
            "type": "histogram"
           }
          ],
          "histogram2d": [
           {
            "colorbar": {
             "outlinewidth": 0,
             "ticks": ""
            },
            "colorscale": [
             [
              0,
              "#0d0887"
             ],
             [
              0.1111111111111111,
              "#46039f"
             ],
             [
              0.2222222222222222,
              "#7201a8"
             ],
             [
              0.3333333333333333,
              "#9c179e"
             ],
             [
              0.4444444444444444,
              "#bd3786"
             ],
             [
              0.5555555555555556,
              "#d8576b"
             ],
             [
              0.6666666666666666,
              "#ed7953"
             ],
             [
              0.7777777777777778,
              "#fb9f3a"
             ],
             [
              0.8888888888888888,
              "#fdca26"
             ],
             [
              1,
              "#f0f921"
             ]
            ],
            "type": "histogram2d"
           }
          ],
          "histogram2dcontour": [
           {
            "colorbar": {
             "outlinewidth": 0,
             "ticks": ""
            },
            "colorscale": [
             [
              0,
              "#0d0887"
             ],
             [
              0.1111111111111111,
              "#46039f"
             ],
             [
              0.2222222222222222,
              "#7201a8"
             ],
             [
              0.3333333333333333,
              "#9c179e"
             ],
             [
              0.4444444444444444,
              "#bd3786"
             ],
             [
              0.5555555555555556,
              "#d8576b"
             ],
             [
              0.6666666666666666,
              "#ed7953"
             ],
             [
              0.7777777777777778,
              "#fb9f3a"
             ],
             [
              0.8888888888888888,
              "#fdca26"
             ],
             [
              1,
              "#f0f921"
             ]
            ],
            "type": "histogram2dcontour"
           }
          ],
          "mesh3d": [
           {
            "colorbar": {
             "outlinewidth": 0,
             "ticks": ""
            },
            "type": "mesh3d"
           }
          ],
          "parcoords": [
           {
            "line": {
             "colorbar": {
              "outlinewidth": 0,
              "ticks": ""
             }
            },
            "type": "parcoords"
           }
          ],
          "pie": [
           {
            "automargin": true,
            "type": "pie"
           }
          ],
          "scatter": [
           {
            "marker": {
             "colorbar": {
              "outlinewidth": 0,
              "ticks": ""
             }
            },
            "type": "scatter"
           }
          ],
          "scatter3d": [
           {
            "line": {
             "colorbar": {
              "outlinewidth": 0,
              "ticks": ""
             }
            },
            "marker": {
             "colorbar": {
              "outlinewidth": 0,
              "ticks": ""
             }
            },
            "type": "scatter3d"
           }
          ],
          "scattercarpet": [
           {
            "marker": {
             "colorbar": {
              "outlinewidth": 0,
              "ticks": ""
             }
            },
            "type": "scattercarpet"
           }
          ],
          "scattergeo": [
           {
            "marker": {
             "colorbar": {
              "outlinewidth": 0,
              "ticks": ""
             }
            },
            "type": "scattergeo"
           }
          ],
          "scattergl": [
           {
            "marker": {
             "colorbar": {
              "outlinewidth": 0,
              "ticks": ""
             }
            },
            "type": "scattergl"
           }
          ],
          "scattermapbox": [
           {
            "marker": {
             "colorbar": {
              "outlinewidth": 0,
              "ticks": ""
             }
            },
            "type": "scattermapbox"
           }
          ],
          "scatterpolar": [
           {
            "marker": {
             "colorbar": {
              "outlinewidth": 0,
              "ticks": ""
             }
            },
            "type": "scatterpolar"
           }
          ],
          "scatterpolargl": [
           {
            "marker": {
             "colorbar": {
              "outlinewidth": 0,
              "ticks": ""
             }
            },
            "type": "scatterpolargl"
           }
          ],
          "scatterternary": [
           {
            "marker": {
             "colorbar": {
              "outlinewidth": 0,
              "ticks": ""
             }
            },
            "type": "scatterternary"
           }
          ],
          "surface": [
           {
            "colorbar": {
             "outlinewidth": 0,
             "ticks": ""
            },
            "colorscale": [
             [
              0,
              "#0d0887"
             ],
             [
              0.1111111111111111,
              "#46039f"
             ],
             [
              0.2222222222222222,
              "#7201a8"
             ],
             [
              0.3333333333333333,
              "#9c179e"
             ],
             [
              0.4444444444444444,
              "#bd3786"
             ],
             [
              0.5555555555555556,
              "#d8576b"
             ],
             [
              0.6666666666666666,
              "#ed7953"
             ],
             [
              0.7777777777777778,
              "#fb9f3a"
             ],
             [
              0.8888888888888888,
              "#fdca26"
             ],
             [
              1,
              "#f0f921"
             ]
            ],
            "type": "surface"
           }
          ],
          "table": [
           {
            "cells": {
             "fill": {
              "color": "#EBF0F8"
             },
             "line": {
              "color": "white"
             }
            },
            "header": {
             "fill": {
              "color": "#C8D4E3"
             },
             "line": {
              "color": "white"
             }
            },
            "type": "table"
           }
          ]
         },
         "layout": {
          "annotationdefaults": {
           "arrowcolor": "#2a3f5f",
           "arrowhead": 0,
           "arrowwidth": 1
          },
          "autotypenumbers": "strict",
          "coloraxis": {
           "colorbar": {
            "outlinewidth": 0,
            "ticks": ""
           }
          },
          "colorscale": {
           "diverging": [
            [
             0,
             "#8e0152"
            ],
            [
             0.1,
             "#c51b7d"
            ],
            [
             0.2,
             "#de77ae"
            ],
            [
             0.3,
             "#f1b6da"
            ],
            [
             0.4,
             "#fde0ef"
            ],
            [
             0.5,
             "#f7f7f7"
            ],
            [
             0.6,
             "#e6f5d0"
            ],
            [
             0.7,
             "#b8e186"
            ],
            [
             0.8,
             "#7fbc41"
            ],
            [
             0.9,
             "#4d9221"
            ],
            [
             1,
             "#276419"
            ]
           ],
           "sequential": [
            [
             0,
             "#0d0887"
            ],
            [
             0.1111111111111111,
             "#46039f"
            ],
            [
             0.2222222222222222,
             "#7201a8"
            ],
            [
             0.3333333333333333,
             "#9c179e"
            ],
            [
             0.4444444444444444,
             "#bd3786"
            ],
            [
             0.5555555555555556,
             "#d8576b"
            ],
            [
             0.6666666666666666,
             "#ed7953"
            ],
            [
             0.7777777777777778,
             "#fb9f3a"
            ],
            [
             0.8888888888888888,
             "#fdca26"
            ],
            [
             1,
             "#f0f921"
            ]
           ],
           "sequentialminus": [
            [
             0,
             "#0d0887"
            ],
            [
             0.1111111111111111,
             "#46039f"
            ],
            [
             0.2222222222222222,
             "#7201a8"
            ],
            [
             0.3333333333333333,
             "#9c179e"
            ],
            [
             0.4444444444444444,
             "#bd3786"
            ],
            [
             0.5555555555555556,
             "#d8576b"
            ],
            [
             0.6666666666666666,
             "#ed7953"
            ],
            [
             0.7777777777777778,
             "#fb9f3a"
            ],
            [
             0.8888888888888888,
             "#fdca26"
            ],
            [
             1,
             "#f0f921"
            ]
           ]
          },
          "colorway": [
           "#636efa",
           "#EF553B",
           "#00cc96",
           "#ab63fa",
           "#FFA15A",
           "#19d3f3",
           "#FF6692",
           "#B6E880",
           "#FF97FF",
           "#FECB52"
          ],
          "font": {
           "color": "#2a3f5f"
          },
          "geo": {
           "bgcolor": "white",
           "lakecolor": "white",
           "landcolor": "#E5ECF6",
           "showlakes": true,
           "showland": true,
           "subunitcolor": "white"
          },
          "hoverlabel": {
           "align": "left"
          },
          "hovermode": "closest",
          "mapbox": {
           "style": "light"
          },
          "paper_bgcolor": "white",
          "plot_bgcolor": "#E5ECF6",
          "polar": {
           "angularaxis": {
            "gridcolor": "white",
            "linecolor": "white",
            "ticks": ""
           },
           "bgcolor": "#E5ECF6",
           "radialaxis": {
            "gridcolor": "white",
            "linecolor": "white",
            "ticks": ""
           }
          },
          "scene": {
           "xaxis": {
            "backgroundcolor": "#E5ECF6",
            "gridcolor": "white",
            "gridwidth": 2,
            "linecolor": "white",
            "showbackground": true,
            "ticks": "",
            "zerolinecolor": "white"
           },
           "yaxis": {
            "backgroundcolor": "#E5ECF6",
            "gridcolor": "white",
            "gridwidth": 2,
            "linecolor": "white",
            "showbackground": true,
            "ticks": "",
            "zerolinecolor": "white"
           },
           "zaxis": {
            "backgroundcolor": "#E5ECF6",
            "gridcolor": "white",
            "gridwidth": 2,
            "linecolor": "white",
            "showbackground": true,
            "ticks": "",
            "zerolinecolor": "white"
           }
          },
          "shapedefaults": {
           "line": {
            "color": "#2a3f5f"
           }
          },
          "ternary": {
           "aaxis": {
            "gridcolor": "white",
            "linecolor": "white",
            "ticks": ""
           },
           "baxis": {
            "gridcolor": "white",
            "linecolor": "white",
            "ticks": ""
           },
           "bgcolor": "#E5ECF6",
           "caxis": {
            "gridcolor": "white",
            "linecolor": "white",
            "ticks": ""
           }
          },
          "title": {
           "x": 0.05
          },
          "xaxis": {
           "automargin": true,
           "gridcolor": "white",
           "linecolor": "white",
           "ticks": "",
           "title": {
            "standoff": 15
           },
           "zerolinecolor": "white",
           "zerolinewidth": 2
          },
          "yaxis": {
           "automargin": true,
           "gridcolor": "white",
           "linecolor": "white",
           "ticks": "",
           "title": {
            "standoff": 15
           },
           "zerolinecolor": "white",
           "zerolinewidth": 2
          }
         }
        },
        "title": {
         "text": "Delayed Flights By Day of week"
        },
        "xaxis": {
         "anchor": "y",
         "domain": [
          0,
          1
         ],
         "title": {
          "text": "Day"
         }
        },
        "yaxis": {
         "anchor": "x",
         "domain": [
          0,
          1
         ],
         "title": {
          "text": "Number of Delayed Flights"
         }
        }
       }
      }
     },
     "metadata": {},
     "output_type": "display_data"
    }
   ],
   "source": [
    "\n",
    "fig = px.bar(df4,x='flight_day',y='counts',labels={\n",
    "                     \"flight_day\": \"Day\",\n",
    "                     \"counts\": \"Number of Delayed Flights\",\n",
    "                              \n",
    "                 },\n",
    "                title=\"Delayed Flights By Day of week\")\n",
    "fig.show()"
   ]
  }
 ],
 "metadata": {
  "interpreter": {
   "hash": "ac59ebe37160ed0dfa835113d9b8498d9f09ceb179beaac4002f036b9467c963"
  },
  "kernelspec": {
   "display_name": "Python 3.9.6 64-bit",
   "language": "python",
   "name": "python3"
  },
  "language_info": {
   "codemirror_mode": {
    "name": "ipython",
    "version": 3
   },
   "file_extension": ".py",
   "mimetype": "text/x-python",
   "name": "python",
   "nbconvert_exporter": "python",
   "pygments_lexer": "ipython3",
   "version": "3.9.6"
  },
  "orig_nbformat": 4
 },
 "nbformat": 4,
 "nbformat_minor": 2
}
